{
 "cells": [
  {
   "cell_type": "markdown",
   "metadata": {},
   "source": [
    "I had intended to write a post about speeding up our [Numpy Ising implementation](/posts/parallelizable-numpy-implementation-of-2d-ising-model), which we [found out gave reasonable numerical values](/posts/quantitative-data-analysis-of-the-2d-ising-model), though the small grids we were able to use limited the accuracy a fair bit. However, a few difficulties came up, so I thought instead (to keep writing these a habit!) I would write a little bit about using CuPy to speed up force calculations in N-body simulations. This might be a point I'll come back to later on this blog, as I have an ongoing project implementing that.\n",
    "\n",
    "<!-- TEASER_END -->\n",
    "\n",
    "The part of the n-body simulation we'll look at is the calculation of forces, where the force on the i-th point particle or celestial object is:\n",
    "\n",
    "$$ F_i = \\sum_j F_{ij} = G \\sum_j \\frac{m_i m_j}{|\\vec{r_i}-\\vec{r_j}|^3 } (\\vec{r_i}-\\vec{r_j}) $$\n",
    "\n",
    "From this, Newton's law gives $\\vec{a_i} = \\vec{F_i} / m_i$. I was trying to use my own implementation of this vectorization, but I found [a neat implementation by PMende on Stack](https://stackoverflow.com/a/52562874/4417567) that's both more general and faster than what I had been doing. Let's take a look!"
   ]
  },
  {
   "cell_type": "code",
   "execution_count": 1,
   "metadata": {},
   "outputs": [],
   "source": [
    "import numpy\n",
    "import cupy\n",
    "import numpy_html"
   ]
  },
  {
   "cell_type": "markdown",
   "metadata": {},
   "source": [
    "I basically copypasted the following:"
   ]
  },
  {
   "cell_type": "code",
   "execution_count": 2,
   "metadata": {},
   "outputs": [],
   "source": [
    "def accelerations(positions, masses, G = 1):\n",
    "    '''\n",
    "    https://stackoverflow.com/a/52562874\n",
    "    \n",
    "    Params:\n",
    "    - positions: numpy array of size (n,3)\n",
    "    - masses: numpy array of size (n,)\n",
    "    '''\n",
    "    xp = cupy.get_array_module(positions)\n",
    "    mass_matrix = masses.reshape((1, -1, 1))*masses.reshape((-1, 1, 1))\n",
    "    disps = positions.reshape((1, -1, 3)) - positions.reshape((-1, 1, 3)) # displacements\n",
    "    dists = xp.linalg.norm(disps, axis=2)\n",
    "    dists[dists == 0] = 1 # Avoid divide by zero warnings\n",
    "    forces = G*disps*mass_matrix/xp.expand_dims(dists, 2)**3\n",
    "    return forces.sum(axis=1)/masses.reshape(-1, 1)"
   ]
  },
  {
   "cell_type": "markdown",
   "metadata": {},
   "source": [
    "The main change I made was adding this line:\n",
    "\n",
    "```python\n",
    "    xp = cupy.get_array_module(positions)\n",
    "```\n",
    "\n",
    "Which returns `numpy` if we pass in a `numpy.ndarray` and `cupy` if we pass in a CuPy array. This will make this function more generic for our purposes.\n",
    "\n",
    "Let's take a look at what each of those lines does. For the illustrations, we'll take some particularly simple values:"
   ]
  },
  {
   "cell_type": "code",
   "execution_count": 3,
   "metadata": {},
   "outputs": [
    {
     "data": {
      "text/html": [
       "<table style='border-style:solid;border-width:1px;'>\n",
       "<tr><td style='font-family:monospace;white-space: pre;' title='0'>1</td></tr>\n",
       "<tr><td style='font-family:monospace;white-space: pre;' title='1'>2</td></tr>\n",
       "<tr><td style='font-family:monospace;white-space: pre;' title='2'>3</td></tr>\n",
       "<tr><td style='font-family:monospace;white-space: pre;' title='3'>4</td></tr>\n",
       "<tr><td style='font-family:monospace;white-space: pre;' title='4'>5</td></tr>\n",
       "</table>"
      ],
      "text/plain": [
       "array([1, 2, 3, 4, 5])"
      ]
     },
     "execution_count": 3,
     "metadata": {},
     "output_type": "execute_result"
    }
   ],
   "source": [
    "N = 5\n",
    "m = numpy.arange(N) + 1\n",
    "r = (numpy.arange(N*3)**2).reshape((N, 3))\n",
    "m"
   ]
  },
  {
   "cell_type": "markdown",
   "metadata": {},
   "source": [
    "Pretty printing of arrays, by the way, is provided by the awesome `numpy_html` package. We can now start digging! Let's first investigate the `mass_matrix`:"
   ]
  },
  {
   "cell_type": "code",
   "execution_count": 4,
   "metadata": {},
   "outputs": [
    {
     "data": {
      "text/html": [
       "<table style='border-style:solid;border-width:1px;'>\n",
       "<tr><td>\n",
       "<table style='border-style:solid;border-width:1px;'>\n",
       "<tr>\n",
       "<td style='font-family:monospace;white-space: pre;' title='(0, 0, 0)'>1 </td>\n",
       "<td style='font-family:monospace;white-space: pre;' title='(0, 0, 1)'>2 </td>\n",
       "<td style='font-family:monospace;white-space: pre;' title='(0, 0, 2)'>3 </td>\n",
       "<td style='font-family:monospace;white-space: pre;' title='(0, 0, 3)'>4 </td>\n",
       "<td style='font-family:monospace;white-space: pre;' title='(0, 0, 4)'>5 </td>\n",
       "</tr>\n",
       "<tr>\n",
       "<td style='font-family:monospace;white-space: pre;' title='(0, 1, 0)'>2 </td>\n",
       "<td style='font-family:monospace;white-space: pre;' title='(0, 1, 1)'>4 </td>\n",
       "<td style='font-family:monospace;white-space: pre;' title='(0, 1, 2)'>6 </td>\n",
       "<td style='font-family:monospace;white-space: pre;' title='(0, 1, 3)'>8 </td>\n",
       "<td style='font-family:monospace;white-space: pre;' title='(0, 1, 4)'>10</td>\n",
       "</tr>\n",
       "<tr>\n",
       "<td style='font-family:monospace;white-space: pre;' title='(0, 2, 0)'>3 </td>\n",
       "<td style='font-family:monospace;white-space: pre;' title='(0, 2, 1)'>6 </td>\n",
       "<td style='font-family:monospace;white-space: pre;' title='(0, 2, 2)'>9 </td>\n",
       "<td style='font-family:monospace;white-space: pre;' title='(0, 2, 3)'>12</td>\n",
       "<td style='font-family:monospace;white-space: pre;' title='(0, 2, 4)'>15</td>\n",
       "</tr>\n",
       "<tr>\n",
       "<td style='font-family:monospace;white-space: pre;' title='(0, 3, 0)'>4 </td>\n",
       "<td style='font-family:monospace;white-space: pre;' title='(0, 3, 1)'>8 </td>\n",
       "<td style='font-family:monospace;white-space: pre;' title='(0, 3, 2)'>12</td>\n",
       "<td style='font-family:monospace;white-space: pre;' title='(0, 3, 3)'>16</td>\n",
       "<td style='font-family:monospace;white-space: pre;' title='(0, 3, 4)'>20</td>\n",
       "</tr>\n",
       "<tr>\n",
       "<td style='font-family:monospace;white-space: pre;' title='(0, 4, 0)'>5 </td>\n",
       "<td style='font-family:monospace;white-space: pre;' title='(0, 4, 1)'>10</td>\n",
       "<td style='font-family:monospace;white-space: pre;' title='(0, 4, 2)'>15</td>\n",
       "<td style='font-family:monospace;white-space: pre;' title='(0, 4, 3)'>20</td>\n",
       "<td style='font-family:monospace;white-space: pre;' title='(0, 4, 4)'>25</td>\n",
       "</tr>\n",
       "</table>\n",
       "</td></tr>\n",
       "</table>"
      ],
      "text/plain": [
       "array([[[ 1,  2,  3,  4,  5],\n",
       "        [ 2,  4,  6,  8, 10],\n",
       "        [ 3,  6,  9, 12, 15],\n",
       "        [ 4,  8, 12, 16, 20],\n",
       "        [ 5, 10, 15, 20, 25]]])"
      ]
     },
     "execution_count": 4,
     "metadata": {},
     "output_type": "execute_result"
    }
   ],
   "source": [
    "mass_matrix = m.reshape((1, -1, 1)) * m.reshape((-1, 1, 1))\n",
    "mass_matrix.T"
   ]
  },
  {
   "cell_type": "markdown",
   "metadata": {},
   "source": [
    "This was a `(5, 5, 1)`-shaped array, but I used a `.T` transposition so that it would print more nicely, as a `(1, 5, 5)`-shaped array. This shows that the (i, j)-th entry is just $m_i m_j$ - with the shape it has, we should be able to take advantage of Numpy broadcasting in our calculation.\n",
    "\n",
    "Let's now look at the displacements - `disps`. The line is\n",
    "```python\n",
    "    disps = r.reshape((1, -1, 3)) - r.reshape((-1, 1, 3))\n",
    "```\n",
    "but let's break it down a little bit more. `r` is"
   ]
  },
  {
   "cell_type": "code",
   "execution_count": 5,
   "metadata": {},
   "outputs": [
    {
     "data": {
      "text/html": [
       "<table style='border-style:solid;border-width:1px;'>\n",
       "<tr>\n",
       "<td style='font-family:monospace;white-space: pre;' title='(0, 0)'>0  </td>\n",
       "<td style='font-family:monospace;white-space: pre;' title='(0, 1)'>1  </td>\n",
       "<td style='font-family:monospace;white-space: pre;' title='(0, 2)'>4  </td>\n",
       "</tr>\n",
       "<tr>\n",
       "<td style='font-family:monospace;white-space: pre;' title='(1, 0)'>9  </td>\n",
       "<td style='font-family:monospace;white-space: pre;' title='(1, 1)'>16 </td>\n",
       "<td style='font-family:monospace;white-space: pre;' title='(1, 2)'>25 </td>\n",
       "</tr>\n",
       "<tr>\n",
       "<td style='font-family:monospace;white-space: pre;' title='(2, 0)'>36 </td>\n",
       "<td style='font-family:monospace;white-space: pre;' title='(2, 1)'>49 </td>\n",
       "<td style='font-family:monospace;white-space: pre;' title='(2, 2)'>64 </td>\n",
       "</tr>\n",
       "<tr>\n",
       "<td style='font-family:monospace;white-space: pre;' title='(3, 0)'>81 </td>\n",
       "<td style='font-family:monospace;white-space: pre;' title='(3, 1)'>100</td>\n",
       "<td style='font-family:monospace;white-space: pre;' title='(3, 2)'>121</td>\n",
       "</tr>\n",
       "<tr>\n",
       "<td style='font-family:monospace;white-space: pre;' title='(4, 0)'>144</td>\n",
       "<td style='font-family:monospace;white-space: pre;' title='(4, 1)'>169</td>\n",
       "<td style='font-family:monospace;white-space: pre;' title='(4, 2)'>196</td>\n",
       "</tr>\n",
       "</table>"
      ],
      "text/plain": [
       "array([[  0,   1,   4],\n",
       "       [  9,  16,  25],\n",
       "       [ 36,  49,  64],\n",
       "       [ 81, 100, 121],\n",
       "       [144, 169, 196]])"
      ]
     },
     "execution_count": 5,
     "metadata": {},
     "output_type": "execute_result"
    }
   ],
   "source": [
    "r"
   ]
  },
  {
   "cell_type": "markdown",
   "metadata": {},
   "source": [
    "while if you reshape it with a single added dimension (signified by `1`) in the first place:"
   ]
  },
  {
   "cell_type": "code",
   "execution_count": 6,
   "metadata": {},
   "outputs": [
    {
     "data": {
      "text/html": [
       "<table style='border-style:solid;border-width:1px;'>\n",
       "<tr><td>\n",
       "<table style='border-style:solid;border-width:1px;'>\n",
       "<tr>\n",
       "<td style='font-family:monospace;white-space: pre;' title='(0, 0, 0)'>0  </td>\n",
       "<td style='font-family:monospace;white-space: pre;' title='(0, 0, 1)'>1  </td>\n",
       "<td style='font-family:monospace;white-space: pre;' title='(0, 0, 2)'>4  </td>\n",
       "</tr>\n",
       "<tr>\n",
       "<td style='font-family:monospace;white-space: pre;' title='(0, 1, 0)'>9  </td>\n",
       "<td style='font-family:monospace;white-space: pre;' title='(0, 1, 1)'>16 </td>\n",
       "<td style='font-family:monospace;white-space: pre;' title='(0, 1, 2)'>25 </td>\n",
       "</tr>\n",
       "<tr>\n",
       "<td style='font-family:monospace;white-space: pre;' title='(0, 2, 0)'>36 </td>\n",
       "<td style='font-family:monospace;white-space: pre;' title='(0, 2, 1)'>49 </td>\n",
       "<td style='font-family:monospace;white-space: pre;' title='(0, 2, 2)'>64 </td>\n",
       "</tr>\n",
       "<tr>\n",
       "<td style='font-family:monospace;white-space: pre;' title='(0, 3, 0)'>81 </td>\n",
       "<td style='font-family:monospace;white-space: pre;' title='(0, 3, 1)'>100</td>\n",
       "<td style='font-family:monospace;white-space: pre;' title='(0, 3, 2)'>121</td>\n",
       "</tr>\n",
       "<tr>\n",
       "<td style='font-family:monospace;white-space: pre;' title='(0, 4, 0)'>144</td>\n",
       "<td style='font-family:monospace;white-space: pre;' title='(0, 4, 1)'>169</td>\n",
       "<td style='font-family:monospace;white-space: pre;' title='(0, 4, 2)'>196</td>\n",
       "</tr>\n",
       "</table>\n",
       "</td></tr>\n",
       "</table>"
      ],
      "text/plain": [
       "array([[[  0,   1,   4],\n",
       "        [  9,  16,  25],\n",
       "        [ 36,  49,  64],\n",
       "        [ 81, 100, 121],\n",
       "        [144, 169, 196]]])"
      ]
     },
     "execution_count": 6,
     "metadata": {},
     "output_type": "execute_result"
    }
   ],
   "source": [
    "r.reshape((1, -1, 3))"
   ]
  },
  {
   "cell_type": "markdown",
   "metadata": {},
   "source": [
    "while if we were to add a dimension in the second slot:"
   ]
  },
  {
   "cell_type": "code",
   "execution_count": 7,
   "metadata": {},
   "outputs": [
    {
     "data": {
      "text/html": [
       "<table style='border-style:solid;border-width:1px;'>\n",
       "<tr><td>\n",
       "<table style='border-style:solid;border-width:1px;'>\n",
       "<tr>\n",
       "<td style='font-family:monospace;white-space: pre;' title='(0, 0, 0)'>0  </td>\n",
       "<td style='font-family:monospace;white-space: pre;' title='(0, 0, 1)'>1  </td>\n",
       "<td style='font-family:monospace;white-space: pre;' title='(0, 0, 2)'>4  </td>\n",
       "</tr>\n",
       "</table>\n",
       "</td></tr>\n",
       "<tr><td>\n",
       "<table style='border-style:solid;border-width:1px;'>\n",
       "<tr>\n",
       "<td style='font-family:monospace;white-space: pre;' title='(1, 0, 0)'>9  </td>\n",
       "<td style='font-family:monospace;white-space: pre;' title='(1, 0, 1)'>16 </td>\n",
       "<td style='font-family:monospace;white-space: pre;' title='(1, 0, 2)'>25 </td>\n",
       "</tr>\n",
       "</table>\n",
       "</td></tr>\n",
       "<tr><td>\n",
       "<table style='border-style:solid;border-width:1px;'>\n",
       "<tr>\n",
       "<td style='font-family:monospace;white-space: pre;' title='(2, 0, 0)'>36 </td>\n",
       "<td style='font-family:monospace;white-space: pre;' title='(2, 0, 1)'>49 </td>\n",
       "<td style='font-family:monospace;white-space: pre;' title='(2, 0, 2)'>64 </td>\n",
       "</tr>\n",
       "</table>\n",
       "</td></tr>\n",
       "<tr><td>\n",
       "<table style='border-style:solid;border-width:1px;'>\n",
       "<tr>\n",
       "<td style='font-family:monospace;white-space: pre;' title='(3, 0, 0)'>81 </td>\n",
       "<td style='font-family:monospace;white-space: pre;' title='(3, 0, 1)'>100</td>\n",
       "<td style='font-family:monospace;white-space: pre;' title='(3, 0, 2)'>121</td>\n",
       "</tr>\n",
       "</table>\n",
       "</td></tr>\n",
       "<tr><td>\n",
       "<table style='border-style:solid;border-width:1px;'>\n",
       "<tr>\n",
       "<td style='font-family:monospace;white-space: pre;' title='(4, 0, 0)'>144</td>\n",
       "<td style='font-family:monospace;white-space: pre;' title='(4, 0, 1)'>169</td>\n",
       "<td style='font-family:monospace;white-space: pre;' title='(4, 0, 2)'>196</td>\n",
       "</tr>\n",
       "</table>\n",
       "</td></tr>\n",
       "</table>"
      ],
      "text/plain": [
       "array([[[  0,   1,   4]],\n",
       "\n",
       "       [[  9,  16,  25]],\n",
       "\n",
       "       [[ 36,  49,  64]],\n",
       "\n",
       "       [[ 81, 100, 121]],\n",
       "\n",
       "       [[144, 169, 196]]])"
      ]
     },
     "execution_count": 7,
     "metadata": {},
     "output_type": "execute_result"
    }
   ],
   "source": [
    "r.reshape((-1, 1, 3))"
   ]
  },
  {
   "cell_type": "markdown",
   "metadata": {},
   "source": [
    "We thus have a `(1, 5, 3)`-shaped array and a `(5, 1, 3)` array. Numpy (and anything implementing Numpy's broadcasting API by extension) is going to expand that into a `(5, 5, 3)` array:"
   ]
  },
  {
   "cell_type": "code",
   "execution_count": 8,
   "metadata": {},
   "outputs": [
    {
     "data": {
      "text/html": [
       "<table style='border-style:solid;border-width:1px;'>\n",
       "<tr><td>\n",
       "<table style='border-style:solid;border-width:1px;'>\n",
       "<tr>\n",
       "<td style='font-family:monospace;white-space: pre;' title='(0, 0, 0)'>0   </td>\n",
       "<td style='font-family:monospace;white-space: pre;' title='(0, 0, 1)'>-9  </td>\n",
       "<td style='font-family:monospace;white-space: pre;' title='(0, 0, 2)'>-36 </td>\n",
       "<td style='font-family:monospace;white-space: pre;' title='(0, 0, 3)'>-81 </td>\n",
       "<td style='font-family:monospace;white-space: pre;' title='(0, 0, 4)'>-144</td>\n",
       "</tr>\n",
       "<tr>\n",
       "<td style='font-family:monospace;white-space: pre;' title='(0, 1, 0)'>9   </td>\n",
       "<td style='font-family:monospace;white-space: pre;' title='(0, 1, 1)'>0   </td>\n",
       "<td style='font-family:monospace;white-space: pre;' title='(0, 1, 2)'>-27 </td>\n",
       "<td style='font-family:monospace;white-space: pre;' title='(0, 1, 3)'>-72 </td>\n",
       "<td style='font-family:monospace;white-space: pre;' title='(0, 1, 4)'>-135</td>\n",
       "</tr>\n",
       "<tr>\n",
       "<td style='font-family:monospace;white-space: pre;' title='(0, 2, 0)'>36  </td>\n",
       "<td style='font-family:monospace;white-space: pre;' title='(0, 2, 1)'>27  </td>\n",
       "<td style='font-family:monospace;white-space: pre;' title='(0, 2, 2)'>0   </td>\n",
       "<td style='font-family:monospace;white-space: pre;' title='(0, 2, 3)'>-45 </td>\n",
       "<td style='font-family:monospace;white-space: pre;' title='(0, 2, 4)'>-108</td>\n",
       "</tr>\n",
       "<tr>\n",
       "<td style='font-family:monospace;white-space: pre;' title='(0, 3, 0)'>81  </td>\n",
       "<td style='font-family:monospace;white-space: pre;' title='(0, 3, 1)'>72  </td>\n",
       "<td style='font-family:monospace;white-space: pre;' title='(0, 3, 2)'>45  </td>\n",
       "<td style='font-family:monospace;white-space: pre;' title='(0, 3, 3)'>0   </td>\n",
       "<td style='font-family:monospace;white-space: pre;' title='(0, 3, 4)'>-63 </td>\n",
       "</tr>\n",
       "<tr>\n",
       "<td style='font-family:monospace;white-space: pre;' title='(0, 4, 0)'>144 </td>\n",
       "<td style='font-family:monospace;white-space: pre;' title='(0, 4, 1)'>135 </td>\n",
       "<td style='font-family:monospace;white-space: pre;' title='(0, 4, 2)'>108 </td>\n",
       "<td style='font-family:monospace;white-space: pre;' title='(0, 4, 3)'>63  </td>\n",
       "<td style='font-family:monospace;white-space: pre;' title='(0, 4, 4)'>0   </td>\n",
       "</tr>\n",
       "</table>\n",
       "</td></tr>\n",
       "<tr><td>\n",
       "<table style='border-style:solid;border-width:1px;'>\n",
       "<tr>\n",
       "<td style='font-family:monospace;white-space: pre;' title='(1, 0, 0)'>0   </td>\n",
       "<td style='font-family:monospace;white-space: pre;' title='(1, 0, 1)'>-15 </td>\n",
       "<td style='font-family:monospace;white-space: pre;' title='(1, 0, 2)'>-48 </td>\n",
       "<td style='font-family:monospace;white-space: pre;' title='(1, 0, 3)'>-99 </td>\n",
       "<td style='font-family:monospace;white-space: pre;' title='(1, 0, 4)'>-168</td>\n",
       "</tr>\n",
       "<tr>\n",
       "<td style='font-family:monospace;white-space: pre;' title='(1, 1, 0)'>15  </td>\n",
       "<td style='font-family:monospace;white-space: pre;' title='(1, 1, 1)'>0   </td>\n",
       "<td style='font-family:monospace;white-space: pre;' title='(1, 1, 2)'>-33 </td>\n",
       "<td style='font-family:monospace;white-space: pre;' title='(1, 1, 3)'>-84 </td>\n",
       "<td style='font-family:monospace;white-space: pre;' title='(1, 1, 4)'>-153</td>\n",
       "</tr>\n",
       "<tr>\n",
       "<td style='font-family:monospace;white-space: pre;' title='(1, 2, 0)'>48  </td>\n",
       "<td style='font-family:monospace;white-space: pre;' title='(1, 2, 1)'>33  </td>\n",
       "<td style='font-family:monospace;white-space: pre;' title='(1, 2, 2)'>0   </td>\n",
       "<td style='font-family:monospace;white-space: pre;' title='(1, 2, 3)'>-51 </td>\n",
       "<td style='font-family:monospace;white-space: pre;' title='(1, 2, 4)'>-120</td>\n",
       "</tr>\n",
       "<tr>\n",
       "<td style='font-family:monospace;white-space: pre;' title='(1, 3, 0)'>99  </td>\n",
       "<td style='font-family:monospace;white-space: pre;' title='(1, 3, 1)'>84  </td>\n",
       "<td style='font-family:monospace;white-space: pre;' title='(1, 3, 2)'>51  </td>\n",
       "<td style='font-family:monospace;white-space: pre;' title='(1, 3, 3)'>0   </td>\n",
       "<td style='font-family:monospace;white-space: pre;' title='(1, 3, 4)'>-69 </td>\n",
       "</tr>\n",
       "<tr>\n",
       "<td style='font-family:monospace;white-space: pre;' title='(1, 4, 0)'>168 </td>\n",
       "<td style='font-family:monospace;white-space: pre;' title='(1, 4, 1)'>153 </td>\n",
       "<td style='font-family:monospace;white-space: pre;' title='(1, 4, 2)'>120 </td>\n",
       "<td style='font-family:monospace;white-space: pre;' title='(1, 4, 3)'>69  </td>\n",
       "<td style='font-family:monospace;white-space: pre;' title='(1, 4, 4)'>0   </td>\n",
       "</tr>\n",
       "</table>\n",
       "</td></tr>\n",
       "<tr><td>\n",
       "<table style='border-style:solid;border-width:1px;'>\n",
       "<tr>\n",
       "<td style='font-family:monospace;white-space: pre;' title='(2, 0, 0)'>0   </td>\n",
       "<td style='font-family:monospace;white-space: pre;' title='(2, 0, 1)'>-21 </td>\n",
       "<td style='font-family:monospace;white-space: pre;' title='(2, 0, 2)'>-60 </td>\n",
       "<td style='font-family:monospace;white-space: pre;' title='(2, 0, 3)'>-117</td>\n",
       "<td style='font-family:monospace;white-space: pre;' title='(2, 0, 4)'>-192</td>\n",
       "</tr>\n",
       "<tr>\n",
       "<td style='font-family:monospace;white-space: pre;' title='(2, 1, 0)'>21  </td>\n",
       "<td style='font-family:monospace;white-space: pre;' title='(2, 1, 1)'>0   </td>\n",
       "<td style='font-family:monospace;white-space: pre;' title='(2, 1, 2)'>-39 </td>\n",
       "<td style='font-family:monospace;white-space: pre;' title='(2, 1, 3)'>-96 </td>\n",
       "<td style='font-family:monospace;white-space: pre;' title='(2, 1, 4)'>-171</td>\n",
       "</tr>\n",
       "<tr>\n",
       "<td style='font-family:monospace;white-space: pre;' title='(2, 2, 0)'>60  </td>\n",
       "<td style='font-family:monospace;white-space: pre;' title='(2, 2, 1)'>39  </td>\n",
       "<td style='font-family:monospace;white-space: pre;' title='(2, 2, 2)'>0   </td>\n",
       "<td style='font-family:monospace;white-space: pre;' title='(2, 2, 3)'>-57 </td>\n",
       "<td style='font-family:monospace;white-space: pre;' title='(2, 2, 4)'>-132</td>\n",
       "</tr>\n",
       "<tr>\n",
       "<td style='font-family:monospace;white-space: pre;' title='(2, 3, 0)'>117 </td>\n",
       "<td style='font-family:monospace;white-space: pre;' title='(2, 3, 1)'>96  </td>\n",
       "<td style='font-family:monospace;white-space: pre;' title='(2, 3, 2)'>57  </td>\n",
       "<td style='font-family:monospace;white-space: pre;' title='(2, 3, 3)'>0   </td>\n",
       "<td style='font-family:monospace;white-space: pre;' title='(2, 3, 4)'>-75 </td>\n",
       "</tr>\n",
       "<tr>\n",
       "<td style='font-family:monospace;white-space: pre;' title='(2, 4, 0)'>192 </td>\n",
       "<td style='font-family:monospace;white-space: pre;' title='(2, 4, 1)'>171 </td>\n",
       "<td style='font-family:monospace;white-space: pre;' title='(2, 4, 2)'>132 </td>\n",
       "<td style='font-family:monospace;white-space: pre;' title='(2, 4, 3)'>75  </td>\n",
       "<td style='font-family:monospace;white-space: pre;' title='(2, 4, 4)'>0   </td>\n",
       "</tr>\n",
       "</table>\n",
       "</td></tr>\n",
       "</table>"
      ],
      "text/plain": [
       "array([[[   0,   -9,  -36,  -81, -144],\n",
       "        [   9,    0,  -27,  -72, -135],\n",
       "        [  36,   27,    0,  -45, -108],\n",
       "        [  81,   72,   45,    0,  -63],\n",
       "        [ 144,  135,  108,   63,    0]],\n",
       "\n",
       "       [[   0,  -15,  -48,  -99, -168],\n",
       "        [  15,    0,  -33,  -84, -153],\n",
       "        [  48,   33,    0,  -51, -120],\n",
       "        [  99,   84,   51,    0,  -69],\n",
       "        [ 168,  153,  120,   69,    0]],\n",
       "\n",
       "       [[   0,  -21,  -60, -117, -192],\n",
       "        [  21,    0,  -39,  -96, -171],\n",
       "        [  60,   39,    0,  -57, -132],\n",
       "        [ 117,   96,   57,    0,  -75],\n",
       "        [ 192,  171,  132,   75,    0]]])"
      ]
     },
     "execution_count": 8,
     "metadata": {},
     "output_type": "execute_result"
    }
   ],
   "source": [
    "disps = r.reshape((1, -1, 3)) - r.reshape((-1, 1, 3))\n",
    "disps.T"
   ]
  },
  {
   "cell_type": "markdown",
   "metadata": {},
   "source": [
    "Which I chose to print with a transpose (as a `(3, 5, 5)` array) so as to illustrate the structure a bit more. Each of the three `(5, 5)` arrays displays a different spatial component of $\\vec{r_i} - \\vec{r_j}$. The arrays are antisymmetric as $\\vec{r_{ij}} = - \\vec{r_{ji}}$.\n",
    "\n",
    "Let's continue with the calculations! The next line simply calculates the norms of those inter-particle distances, outputting an `(N, N)` array (summing over the \"spatial dimensions\" axis):"
   ]
  },
  {
   "cell_type": "code",
   "execution_count": 9,
   "metadata": {},
   "outputs": [
    {
     "data": {
      "text/html": [
       "<table style='border-style:solid;border-width:1px;'>\n",
       "<tr>\n",
       "<td style='font-family:monospace;white-space: pre;' title='(0, 0)'>0.          </td>\n",
       "<td style='font-family:monospace;white-space: pre;' title='(0, 1)'>27.33130074 </td>\n",
       "<td style='font-family:monospace;white-space: pre;' title='(0, 2)'>84.85281374 </td>\n",
       "<td style='font-family:monospace;white-space: pre;' title='(0, 3)'>173.35224256</td>\n",
       "<td style='font-family:monospace;white-space: pre;' title='(0, 4)'>292.95733478</td>\n",
       "</tr>\n",
       "<tr>\n",
       "<td style='font-family:monospace;white-space: pre;' title='(1, 0)'>27.33130074 </td>\n",
       "<td style='font-family:monospace;white-space: pre;' title='(1, 1)'>0.          </td>\n",
       "<td style='font-family:monospace;white-space: pre;' title='(1, 2)'>57.78408085 </td>\n",
       "<td style='font-family:monospace;white-space: pre;' title='(1, 3)'>146.47866739</td>\n",
       "<td style='font-family:monospace;white-space: pre;' title='(1, 4)'>266.22359024</td>\n",
       "</tr>\n",
       "<tr>\n",
       "<td style='font-family:monospace;white-space: pre;' title='(2, 0)'>84.85281374 </td>\n",
       "<td style='font-family:monospace;white-space: pre;' title='(2, 1)'>57.78408085 </td>\n",
       "<td style='font-family:monospace;white-space: pre;' title='(2, 2)'>0.          </td>\n",
       "<td style='font-family:monospace;white-space: pre;' title='(2, 3)'>88.74119675 </td>\n",
       "<td style='font-family:monospace;white-space: pre;' title='(2, 4)'>208.53776636</td>\n",
       "</tr>\n",
       "<tr>\n",
       "<td style='font-family:monospace;white-space: pre;' title='(3, 0)'>173.35224256</td>\n",
       "<td style='font-family:monospace;white-space: pre;' title='(3, 1)'>146.47866739</td>\n",
       "<td style='font-family:monospace;white-space: pre;' title='(3, 2)'>88.74119675 </td>\n",
       "<td style='font-family:monospace;white-space: pre;' title='(3, 3)'>0.          </td>\n",
       "<td style='font-family:monospace;white-space: pre;' title='(3, 4)'>119.81235329</td>\n",
       "</tr>\n",
       "<tr>\n",
       "<td style='font-family:monospace;white-space: pre;' title='(4, 0)'>292.95733478</td>\n",
       "<td style='font-family:monospace;white-space: pre;' title='(4, 1)'>266.22359024</td>\n",
       "<td style='font-family:monospace;white-space: pre;' title='(4, 2)'>208.53776636</td>\n",
       "<td style='font-family:monospace;white-space: pre;' title='(4, 3)'>119.81235329</td>\n",
       "<td style='font-family:monospace;white-space: pre;' title='(4, 4)'>0.          </td>\n",
       "</tr>\n",
       "</table>"
      ],
      "text/plain": [
       "array([[  0.        ,  27.33130074,  84.85281374, 173.35224256,\n",
       "        292.95733478],\n",
       "       [ 27.33130074,   0.        ,  57.78408085, 146.47866739,\n",
       "        266.22359024],\n",
       "       [ 84.85281374,  57.78408085,   0.        ,  88.74119675,\n",
       "        208.53776636],\n",
       "       [173.35224256, 146.47866739,  88.74119675,   0.        ,\n",
       "        119.81235329],\n",
       "       [292.95733478, 266.22359024, 208.53776636, 119.81235329,\n",
       "          0.        ]])"
      ]
     },
     "execution_count": 9,
     "metadata": {},
     "output_type": "execute_result"
    }
   ],
   "source": [
    "dists = np.linalg.norm(disps, axis=2)\n",
    "dists"
   ]
  },
  {
   "cell_type": "markdown",
   "metadata": {},
   "source": [
    "The next step is pretty clever. Since in `disps` (see above) each diagonal element is zero (since that's $\\vec{r_{ii}}$), and we'll be dividing those by distances, we're going to have Numpy screaming obscenities at us for dividing by zero. But since `0 / 1 = 0`, we lose nothing and gain peace of mind by doing:"
   ]
  },
  {
   "cell_type": "code",
   "execution_count": 10,
   "metadata": {},
   "outputs": [
    {
     "data": {
      "text/html": [
       "<table style='border-style:solid;border-width:1px;'>\n",
       "<tr>\n",
       "<td style='font-family:monospace;white-space: pre;' title='(0, 0)'>1.          </td>\n",
       "<td style='font-family:monospace;white-space: pre;' title='(0, 1)'>27.33130074 </td>\n",
       "<td style='font-family:monospace;white-space: pre;' title='(0, 2)'>84.85281374 </td>\n",
       "<td style='font-family:monospace;white-space: pre;' title='(0, 3)'>173.35224256</td>\n",
       "<td style='font-family:monospace;white-space: pre;' title='(0, 4)'>292.95733478</td>\n",
       "</tr>\n",
       "<tr>\n",
       "<td style='font-family:monospace;white-space: pre;' title='(1, 0)'>27.33130074 </td>\n",
       "<td style='font-family:monospace;white-space: pre;' title='(1, 1)'>1.          </td>\n",
       "<td style='font-family:monospace;white-space: pre;' title='(1, 2)'>57.78408085 </td>\n",
       "<td style='font-family:monospace;white-space: pre;' title='(1, 3)'>146.47866739</td>\n",
       "<td style='font-family:monospace;white-space: pre;' title='(1, 4)'>266.22359024</td>\n",
       "</tr>\n",
       "<tr>\n",
       "<td style='font-family:monospace;white-space: pre;' title='(2, 0)'>84.85281374 </td>\n",
       "<td style='font-family:monospace;white-space: pre;' title='(2, 1)'>57.78408085 </td>\n",
       "<td style='font-family:monospace;white-space: pre;' title='(2, 2)'>1.          </td>\n",
       "<td style='font-family:monospace;white-space: pre;' title='(2, 3)'>88.74119675 </td>\n",
       "<td style='font-family:monospace;white-space: pre;' title='(2, 4)'>208.53776636</td>\n",
       "</tr>\n",
       "<tr>\n",
       "<td style='font-family:monospace;white-space: pre;' title='(3, 0)'>173.35224256</td>\n",
       "<td style='font-family:monospace;white-space: pre;' title='(3, 1)'>146.47866739</td>\n",
       "<td style='font-family:monospace;white-space: pre;' title='(3, 2)'>88.74119675 </td>\n",
       "<td style='font-family:monospace;white-space: pre;' title='(3, 3)'>1.          </td>\n",
       "<td style='font-family:monospace;white-space: pre;' title='(3, 4)'>119.81235329</td>\n",
       "</tr>\n",
       "<tr>\n",
       "<td style='font-family:monospace;white-space: pre;' title='(4, 0)'>292.95733478</td>\n",
       "<td style='font-family:monospace;white-space: pre;' title='(4, 1)'>266.22359024</td>\n",
       "<td style='font-family:monospace;white-space: pre;' title='(4, 2)'>208.53776636</td>\n",
       "<td style='font-family:monospace;white-space: pre;' title='(4, 3)'>119.81235329</td>\n",
       "<td style='font-family:monospace;white-space: pre;' title='(4, 4)'>1.          </td>\n",
       "</tr>\n",
       "</table>"
      ],
      "text/plain": [
       "array([[  1.        ,  27.33130074,  84.85281374, 173.35224256,\n",
       "        292.95733478],\n",
       "       [ 27.33130074,   1.        ,  57.78408085, 146.47866739,\n",
       "        266.22359024],\n",
       "       [ 84.85281374,  57.78408085,   1.        ,  88.74119675,\n",
       "        208.53776636],\n",
       "       [173.35224256, 146.47866739,  88.74119675,   1.        ,\n",
       "        119.81235329],\n",
       "       [292.95733478, 266.22359024, 208.53776636, 119.81235329,\n",
       "          1.        ]])"
      ]
     },
     "execution_count": 10,
     "metadata": {},
     "output_type": "execute_result"
    }
   ],
   "source": [
    "dists[dists == 0] = 1\n",
    "dists"
   ]
  },
  {
   "cell_type": "markdown",
   "metadata": {},
   "source": [
    "Simple and effective! In my own implementation I had `np.inf` instead of `1` so as to get `anything / np.inf == 0`, but if `anything = 0` for the problematic cases, that's fine as well.\n",
    "\n",
    "The next line simply adds a dimension:"
   ]
  },
  {
   "cell_type": "code",
   "execution_count": 11,
   "metadata": {},
   "outputs": [
    {
     "data": {
      "text/plain": [
       "((5, 5), (5, 5, 1))"
      ]
     },
     "execution_count": 11,
     "metadata": {},
     "output_type": "execute_result"
    }
   ],
   "source": [
    "dists.shape, np.expand_dims(dists, 2).shape"
   ]
  },
  {
   "cell_type": "markdown",
   "metadata": {},
   "source": [
    "For those curious as to why not just `.reshape((-1, -1, 1))`:"
   ]
  },
  {
   "cell_type": "code",
   "execution_count": 12,
   "metadata": {},
   "outputs": [
    {
     "name": "stdout",
     "output_type": "stream",
     "text": [
      "can only specify one unknown dimension\n"
     ]
    }
   ],
   "source": [
    "try:\n",
    "    dists.reshape((-1, -1, 1))\n",
    "except ValueError as e:\n",
    "    print(e)"
   ]
  },
  {
   "cell_type": "markdown",
   "metadata": {},
   "source": [
    "And now we can finally calculate the forces themselves, first getting each of $\\vec{F_{ij}}$:"
   ]
  },
  {
   "cell_type": "code",
   "execution_count": 13,
   "metadata": {},
   "outputs": [
    {
     "data": {
      "text/html": [
       "<table style='border-style:solid;border-width:1px;'>\n",
       "<tr><td>\n",
       "<table style='border-style:solid;border-width:1px;'>\n",
       "<tr>\n",
       "<td style='font-family:monospace;white-space: pre;' title='(0, 0, 0)'>0.             </td>\n",
       "<td style='font-family:monospace;white-space: pre;' title='(0, 0, 1)'>0.             </td>\n",
       "<td style='font-family:monospace;white-space: pre;' title='(0, 0, 2)'>0.             </td>\n",
       "</tr>\n",
       "<tr>\n",
       "<td style='font-family:monospace;white-space: pre;' title='(0, 1, 0)'>0.00088164     </td>\n",
       "<td style='font-family:monospace;white-space: pre;' title='(0, 1, 1)'>0.0014694      </td>\n",
       "<td style='font-family:monospace;white-space: pre;' title='(0, 1, 2)'>0.00205716     </td>\n",
       "</tr>\n",
       "<tr>\n",
       "<td style='font-family:monospace;white-space: pre;' title='(0, 2, 0)'>0.00017678     </td>\n",
       "<td style='font-family:monospace;white-space: pre;' title='(0, 2, 1)'>0.0002357      </td>\n",
       "<td style='font-family:monospace;white-space: pre;' title='(0, 2, 2)'>0.00029463     </td>\n",
       "</tr>\n",
       "<tr>\n",
       "<td style='font-family:monospace;white-space: pre;' title='(0, 3, 0)'>6.2195164e-05  </td>\n",
       "<td style='font-family:monospace;white-space: pre;' title='(0, 3, 1)'>7.60163116e-05 </td>\n",
       "<td style='font-family:monospace;white-space: pre;' title='(0, 3, 2)'>8.98374591e-05 </td>\n",
       "</tr>\n",
       "<tr>\n",
       "<td style='font-family:monospace;white-space: pre;' title='(0, 4, 0)'>2.86364625e-05 </td>\n",
       "<td style='font-family:monospace;white-space: pre;' title='(0, 4, 1)'>3.34092063e-05 </td>\n",
       "<td style='font-family:monospace;white-space: pre;' title='(0, 4, 2)'>3.81819501e-05 </td>\n",
       "</tr>\n",
       "</table>\n",
       "</td></tr>\n",
       "<tr><td>\n",
       "<table style='border-style:solid;border-width:1px;'>\n",
       "<tr>\n",
       "<td style='font-family:monospace;white-space: pre;' title='(1, 0, 0)'>-0.00088164    </td>\n",
       "<td style='font-family:monospace;white-space: pre;' title='(1, 0, 1)'>-0.0014694     </td>\n",
       "<td style='font-family:monospace;white-space: pre;' title='(1, 0, 2)'>-0.00205716    </td>\n",
       "</tr>\n",
       "<tr>\n",
       "<td style='font-family:monospace;white-space: pre;' title='(1, 1, 0)'>0.             </td>\n",
       "<td style='font-family:monospace;white-space: pre;' title='(1, 1, 1)'>0.             </td>\n",
       "<td style='font-family:monospace;white-space: pre;' title='(1, 1, 2)'>0.             </td>\n",
       "</tr>\n",
       "<tr>\n",
       "<td style='font-family:monospace;white-space: pre;' title='(1, 2, 0)'>0.00083963     </td>\n",
       "<td style='font-family:monospace;white-space: pre;' title='(1, 2, 1)'>0.00102622     </td>\n",
       "<td style='font-family:monospace;white-space: pre;' title='(1, 2, 2)'>0.00121281     </td>\n",
       "</tr>\n",
       "<tr>\n",
       "<td style='font-family:monospace;white-space: pre;' title='(1, 3, 0)'>0.00018327     </td>\n",
       "<td style='font-family:monospace;white-space: pre;' title='(1, 3, 1)'>0.00021382     </td>\n",
       "<td style='font-family:monospace;white-space: pre;' title='(1, 3, 2)'>0.00024436     </td>\n",
       "</tr>\n",
       "<tr>\n",
       "<td style='font-family:monospace;white-space: pre;' title='(1, 4, 0)'>7.15474501e-05 </td>\n",
       "<td style='font-family:monospace;white-space: pre;' title='(1, 4, 1)'>8.10871102e-05 </td>\n",
       "<td style='font-family:monospace;white-space: pre;' title='(1, 4, 2)'>9.06267702e-05 </td>\n",
       "</tr>\n",
       "</table>\n",
       "</td></tr>\n",
       "<tr><td>\n",
       "<table style='border-style:solid;border-width:1px;'>\n",
       "<tr>\n",
       "<td style='font-family:monospace;white-space: pre;' title='(2, 0, 0)'>-0.00017678    </td>\n",
       "<td style='font-family:monospace;white-space: pre;' title='(2, 0, 1)'>-0.0002357     </td>\n",
       "<td style='font-family:monospace;white-space: pre;' title='(2, 0, 2)'>-0.00029463    </td>\n",
       "</tr>\n",
       "<tr>\n",
       "<td style='font-family:monospace;white-space: pre;' title='(2, 1, 0)'>-0.00083963    </td>\n",
       "<td style='font-family:monospace;white-space: pre;' title='(2, 1, 1)'>-0.00102622    </td>\n",
       "<td style='font-family:monospace;white-space: pre;' title='(2, 1, 2)'>-0.00121281    </td>\n",
       "</tr>\n",
       "<tr>\n",
       "<td style='font-family:monospace;white-space: pre;' title='(2, 2, 0)'>0.             </td>\n",
       "<td style='font-family:monospace;white-space: pre;' title='(2, 2, 1)'>0.             </td>\n",
       "<td style='font-family:monospace;white-space: pre;' title='(2, 2, 2)'>0.             </td>\n",
       "</tr>\n",
       "<tr>\n",
       "<td style='font-family:monospace;white-space: pre;' title='(2, 3, 0)'>0.00077271     </td>\n",
       "<td style='font-family:monospace;white-space: pre;' title='(2, 3, 1)'>0.00087574     </td>\n",
       "<td style='font-family:monospace;white-space: pre;' title='(2, 3, 2)'>0.00097877     </td>\n",
       "</tr>\n",
       "<tr>\n",
       "<td style='font-family:monospace;white-space: pre;' title='(2, 4, 0)'>0.00017863     </td>\n",
       "<td style='font-family:monospace;white-space: pre;' title='(2, 4, 1)'>0.00019848     </td>\n",
       "<td style='font-family:monospace;white-space: pre;' title='(2, 4, 2)'>0.00021833     </td>\n",
       "</tr>\n",
       "</table>\n",
       "</td></tr>\n",
       "<tr><td>\n",
       "<table style='border-style:solid;border-width:1px;'>\n",
       "<tr>\n",
       "<td style='font-family:monospace;white-space: pre;' title='(3, 0, 0)'>-6.2195164e-05 </td>\n",
       "<td style='font-family:monospace;white-space: pre;' title='(3, 0, 1)'>-7.60163116e-05</td>\n",
       "<td style='font-family:monospace;white-space: pre;' title='(3, 0, 2)'>-8.98374591e-05</td>\n",
       "</tr>\n",
       "<tr>\n",
       "<td style='font-family:monospace;white-space: pre;' title='(3, 1, 0)'>-0.00018327    </td>\n",
       "<td style='font-family:monospace;white-space: pre;' title='(3, 1, 1)'>-0.00021382    </td>\n",
       "<td style='font-family:monospace;white-space: pre;' title='(3, 1, 2)'>-0.00024436    </td>\n",
       "</tr>\n",
       "<tr>\n",
       "<td style='font-family:monospace;white-space: pre;' title='(3, 2, 0)'>-0.00077271    </td>\n",
       "<td style='font-family:monospace;white-space: pre;' title='(3, 2, 1)'>-0.00087574    </td>\n",
       "<td style='font-family:monospace;white-space: pre;' title='(3, 2, 2)'>-0.00097877    </td>\n",
       "</tr>\n",
       "<tr>\n",
       "<td style='font-family:monospace;white-space: pre;' title='(3, 3, 0)'>0.             </td>\n",
       "<td style='font-family:monospace;white-space: pre;' title='(3, 3, 1)'>0.             </td>\n",
       "<td style='font-family:monospace;white-space: pre;' title='(3, 3, 2)'>0.             </td>\n",
       "</tr>\n",
       "<tr>\n",
       "<td style='font-family:monospace;white-space: pre;' title='(3, 4, 0)'>0.0007326      </td>\n",
       "<td style='font-family:monospace;white-space: pre;' title='(3, 4, 1)'>0.00080237     </td>\n",
       "<td style='font-family:monospace;white-space: pre;' title='(3, 4, 2)'>0.00087214     </td>\n",
       "</tr>\n",
       "</table>\n",
       "</td></tr>\n",
       "<tr><td>\n",
       "<table style='border-style:solid;border-width:1px;'>\n",
       "<tr>\n",
       "<td style='font-family:monospace;white-space: pre;' title='(4, 0, 0)'>-2.86364625e-05</td>\n",
       "<td style='font-family:monospace;white-space: pre;' title='(4, 0, 1)'>-3.34092063e-05</td>\n",
       "<td style='font-family:monospace;white-space: pre;' title='(4, 0, 2)'>-3.81819501e-05</td>\n",
       "</tr>\n",
       "<tr>\n",
       "<td style='font-family:monospace;white-space: pre;' title='(4, 1, 0)'>-7.15474501e-05</td>\n",
       "<td style='font-family:monospace;white-space: pre;' title='(4, 1, 1)'>-8.10871102e-05</td>\n",
       "<td style='font-family:monospace;white-space: pre;' title='(4, 1, 2)'>-9.06267702e-05</td>\n",
       "</tr>\n",
       "<tr>\n",
       "<td style='font-family:monospace;white-space: pre;' title='(4, 2, 0)'>-0.00017863    </td>\n",
       "<td style='font-family:monospace;white-space: pre;' title='(4, 2, 1)'>-0.00019848    </td>\n",
       "<td style='font-family:monospace;white-space: pre;' title='(4, 2, 2)'>-0.00021833    </td>\n",
       "</tr>\n",
       "<tr>\n",
       "<td style='font-family:monospace;white-space: pre;' title='(4, 3, 0)'>-0.0007326     </td>\n",
       "<td style='font-family:monospace;white-space: pre;' title='(4, 3, 1)'>-0.00080237    </td>\n",
       "<td style='font-family:monospace;white-space: pre;' title='(4, 3, 2)'>-0.00087214    </td>\n",
       "</tr>\n",
       "<tr>\n",
       "<td style='font-family:monospace;white-space: pre;' title='(4, 4, 0)'>0.             </td>\n",
       "<td style='font-family:monospace;white-space: pre;' title='(4, 4, 1)'>0.             </td>\n",
       "<td style='font-family:monospace;white-space: pre;' title='(4, 4, 2)'>0.             </td>\n",
       "</tr>\n",
       "</table>\n",
       "</td></tr>\n",
       "</table>"
      ],
      "text/plain": [
       "array([[[ 0.00000000e+00,  0.00000000e+00,  0.00000000e+00],\n",
       "        [ 8.81640642e-04,  1.46940107e-03,  2.05716150e-03],\n",
       "        [ 1.76776695e-04,  2.35702260e-04,  2.94627825e-04],\n",
       "        [ 6.21951640e-05,  7.60163116e-05,  8.98374591e-05],\n",
       "        [ 2.86364625e-05,  3.34092063e-05,  3.81819501e-05]],\n",
       "\n",
       "       [[-8.81640642e-04, -1.46940107e-03, -2.05716150e-03],\n",
       "        [ 0.00000000e+00,  0.00000000e+00,  0.00000000e+00],\n",
       "        [ 8.39634714e-04,  1.02622021e-03,  1.21280570e-03],\n",
       "        [ 1.83273360e-04,  2.13818920e-04,  2.44364480e-04],\n",
       "        [ 7.15474501e-05,  8.10871102e-05,  9.06267702e-05]],\n",
       "\n",
       "       [[-1.76776695e-04, -2.35702260e-04, -2.94627825e-04],\n",
       "        [-8.39634714e-04, -1.02622021e-03, -1.21280570e-03],\n",
       "        [ 0.00000000e+00,  0.00000000e+00,  0.00000000e+00],\n",
       "        [ 7.72712461e-04,  8.75740790e-04,  9.78769118e-04],\n",
       "        [ 1.78632659e-04,  1.98480732e-04,  2.18328805e-04]],\n",
       "\n",
       "       [[-6.21951640e-05, -7.60163116e-05, -8.98374591e-05],\n",
       "        [-1.83273360e-04, -2.13818920e-04, -2.44364480e-04],\n",
       "        [-7.72712461e-04, -8.75740790e-04, -9.78769118e-04],\n",
       "        [ 0.00000000e+00,  0.00000000e+00,  0.00000000e+00],\n",
       "        [ 7.32598036e-04,  8.02369277e-04,  8.72140519e-04]],\n",
       "\n",
       "       [[-2.86364625e-05, -3.34092063e-05, -3.81819501e-05],\n",
       "        [-7.15474501e-05, -8.10871102e-05, -9.06267702e-05],\n",
       "        [-1.78632659e-04, -1.98480732e-04, -2.18328805e-04],\n",
       "        [-7.32598036e-04, -8.02369277e-04, -8.72140519e-04],\n",
       "        [ 0.00000000e+00,  0.00000000e+00,  0.00000000e+00]]])"
      ]
     },
     "execution_count": 13,
     "metadata": {},
     "output_type": "execute_result"
    }
   ],
   "source": [
    "G = 1  # because let's be real...\n",
    "forces = G * disps * mass_matrix / np.expand_dims(dists, 2) ** 3\n",
    "forces"
   ]
  },
  {
   "cell_type": "markdown",
   "metadata": {},
   "source": [
    "And we can contract that to $\\vec{F_i}$ by summing over the other-particle index:"
   ]
  },
  {
   "cell_type": "code",
   "execution_count": 14,
   "metadata": {},
   "outputs": [
    {
     "data": {
      "text/html": [
       "<table style='border-style:solid;border-width:1px;'>\n",
       "<tr>\n",
       "<td style='font-family:monospace;white-space: pre;' title='(0, 0)'>0.00114925     </td>\n",
       "<td style='font-family:monospace;white-space: pre;' title='(0, 1)'>0.00181453     </td>\n",
       "<td style='font-family:monospace;white-space: pre;' title='(0, 2)'>0.00247981     </td>\n",
       "</tr>\n",
       "<tr>\n",
       "<td style='font-family:monospace;white-space: pre;' title='(1, 0)'>0.00021281     </td>\n",
       "<td style='font-family:monospace;white-space: pre;' title='(1, 1)'>-0.00014827    </td>\n",
       "<td style='font-family:monospace;white-space: pre;' title='(1, 2)'>-0.00050936    </td>\n",
       "</tr>\n",
       "<tr>\n",
       "<td style='font-family:monospace;white-space: pre;' title='(2, 0)'>-6.50662895e-05</td>\n",
       "<td style='font-family:monospace;white-space: pre;' title='(2, 1)'>-0.0001877     </td>\n",
       "<td style='font-family:monospace;white-space: pre;' title='(2, 2)'>-0.00031034    </td>\n",
       "</tr>\n",
       "<tr>\n",
       "<td style='font-family:monospace;white-space: pre;' title='(3, 0)'>-0.00028558    </td>\n",
       "<td style='font-family:monospace;white-space: pre;' title='(3, 1)'>-0.00036321    </td>\n",
       "<td style='font-family:monospace;white-space: pre;' title='(3, 2)'>-0.00044083    </td>\n",
       "</tr>\n",
       "<tr>\n",
       "<td style='font-family:monospace;white-space: pre;' title='(4, 0)'>-0.00101141    </td>\n",
       "<td style='font-family:monospace;white-space: pre;' title='(4, 1)'>-0.00111535    </td>\n",
       "<td style='font-family:monospace;white-space: pre;' title='(4, 2)'>-0.00121928    </td>\n",
       "</tr>\n",
       "</table>"
      ],
      "text/plain": [
       "array([[ 1.14924896e-03,  1.81452885e-03,  2.47980873e-03],\n",
       "       [ 2.12814882e-04, -1.48274834e-04, -5.09364550e-04],\n",
       "       [-6.50662895e-05, -1.87700945e-04, -3.10335601e-04],\n",
       "       [-2.85582950e-04, -3.63206744e-04, -4.40830539e-04],\n",
       "       [-1.01141461e-03, -1.11534633e-03, -1.21927804e-03]])"
      ]
     },
     "execution_count": 14,
     "metadata": {},
     "output_type": "execute_result"
    }
   ],
   "source": [
    "forces.sum(axis = 1)"
   ]
  },
  {
   "cell_type": "markdown",
   "metadata": {},
   "source": [
    "And from here, a simple division by the masses suffices to get the acceleration, but we need to remember to turn the mass into a `(N, 1)` array via a simple reshape:"
   ]
  },
  {
   "cell_type": "code",
   "execution_count": 15,
   "metadata": {},
   "outputs": [
    {
     "data": {
      "text/html": [
       "<table style='border-style:solid;border-width:1px;'>\n",
       "<tr>\n",
       "<td style='font-family:monospace;white-space: pre;' title='(0, 0)'>0.00114925     </td>\n",
       "<td style='font-family:monospace;white-space: pre;' title='(0, 1)'>0.00181453     </td>\n",
       "<td style='font-family:monospace;white-space: pre;' title='(0, 2)'>0.00247981     </td>\n",
       "</tr>\n",
       "<tr>\n",
       "<td style='font-family:monospace;white-space: pre;' title='(1, 0)'>0.00010641     </td>\n",
       "<td style='font-family:monospace;white-space: pre;' title='(1, 1)'>-7.4137417e-05 </td>\n",
       "<td style='font-family:monospace;white-space: pre;' title='(1, 2)'>-0.00025468    </td>\n",
       "</tr>\n",
       "<tr>\n",
       "<td style='font-family:monospace;white-space: pre;' title='(2, 0)'>-2.16887632e-05</td>\n",
       "<td style='font-family:monospace;white-space: pre;' title='(2, 1)'>-6.25669817e-05</td>\n",
       "<td style='font-family:monospace;white-space: pre;' title='(2, 2)'>-0.00010345    </td>\n",
       "</tr>\n",
       "<tr>\n",
       "<td style='font-family:monospace;white-space: pre;' title='(3, 0)'>-7.13957375e-05</td>\n",
       "<td style='font-family:monospace;white-space: pre;' title='(3, 1)'>-9.08016861e-05</td>\n",
       "<td style='font-family:monospace;white-space: pre;' title='(3, 2)'>-0.00011021    </td>\n",
       "</tr>\n",
       "<tr>\n",
       "<td style='font-family:monospace;white-space: pre;' title='(4, 0)'>-0.00020228    </td>\n",
       "<td style='font-family:monospace;white-space: pre;' title='(4, 1)'>-0.00022307    </td>\n",
       "<td style='font-family:monospace;white-space: pre;' title='(4, 2)'>-0.00024386    </td>\n",
       "</tr>\n",
       "</table>"
      ],
      "text/plain": [
       "array([[ 1.14924896e-03,  1.81452885e-03,  2.47980873e-03],\n",
       "       [ 1.06407441e-04, -7.41374170e-05, -2.54682275e-04],\n",
       "       [-2.16887632e-05, -6.25669817e-05, -1.03445200e-04],\n",
       "       [-7.13957375e-05, -9.08016861e-05, -1.10207635e-04],\n",
       "       [-2.02282921e-04, -2.23069265e-04, -2.43855609e-04]])"
      ]
     },
     "execution_count": 15,
     "metadata": {},
     "output_type": "execute_result"
    }
   ],
   "source": [
    "forces.sum(axis=1)/m.reshape(-1, 1)"
   ]
  },
  {
   "cell_type": "markdown",
   "metadata": {},
   "source": [
    "Let's run a quick test first that also serves to illustrate the results.  We'll first write a simple function that prepares some reasonable parameters - masses and positions in arrays provided by our chosen packages."
   ]
  },
  {
   "cell_type": "code",
   "execution_count": 16,
   "metadata": {},
   "outputs": [],
   "source": [
    "def prep(N, np = numpy, seed = 0):\n",
    "    np.random.seed(seed)\n",
    "    m = np.abs(np.random.normal(loc=100, scale=20, size=N))\n",
    "    r = np.random.normal(size=(N, 3))\n",
    "    return r, m"
   ]
  },
  {
   "cell_type": "markdown",
   "metadata": {},
   "source": [
    "For a test, we'll set `z = 0`:"
   ]
  },
  {
   "cell_type": "code",
   "execution_count": 17,
   "metadata": {},
   "outputs": [
    {
     "data": {
      "image/png": "[encoded data removed]",
      "text/plain": [
       "<Figure size 432x288 with 1 Axes>"
      ]
     },
     "metadata": {
      "needs_background": "light"
     },
     "output_type": "display_data"
    }
   ],
   "source": [
    "r, m = prep(10, numpy, seed = 17)\n",
    "r[:, -1] = 0\n",
    "\n",
    "ax, ay, az = accelerations(r, m).T\n",
    "x, y, z = r.T\n",
    "\n",
    "import matplotlib.pyplot as plt\n",
    "%matplotlib inline\n",
    "plt.scatter(x, y, m);\n",
    "plt.quiver(x, y, ax, ay);"
   ]
  },
  {
   "cell_type": "markdown",
   "metadata": {},
   "source": [
    "Looks just about right! The system is evidently self-gravitating. Let's do the same for a few more bodies:"
   ]
  },
  {
   "cell_type": "code",
   "execution_count": 20,
   "metadata": {},
   "outputs": [
    {
     "data": {
      "image/png": "[encoded data removed]",
      "text/plain": [
       "<Figure size 432x288 with 1 Axes>"
      ]
     },
     "metadata": {
      "needs_background": "light"
     },
     "output_type": "display_data"
    }
   ],
   "source": [
    "r, m = prep(500, numpy, seed = 17)\n",
    "r[:, -1] = 0\n",
    "\n",
    "ax, ay, az = accelerations(r, m).T\n",
    "x, y, z = r.T\n",
    "\n",
    "plt.scatter(x, y, m);\n",
    "plt.quiver(x, y, ax, ay);"
   ]
  },
  {
   "cell_type": "markdown",
   "metadata": {},
   "source": [
    "And that's a proper mess, but the arrows seem to be oriented the right way (towards the system's center of mass) and you get a bunch of very long arrows, signifying high forces at short distances - another issue that I might well come back to in another post!\n",
    "\n",
    "And the nice thing is that our function works just as well on the GPU!"
   ]
  },
  {
   "cell_type": "code",
   "execution_count": 22,
   "metadata": {},
   "outputs": [
    {
     "data": {
      "image/png": "[encoded data removed]",
      "text/plain": [
       "<Figure size 432x288 with 1 Axes>"
      ]
     },
     "metadata": {
      "needs_background": "light"
     },
     "output_type": "display_data"
    }
   ],
   "source": [
    "ax, ay, az = cupy.asnumpy(accelerations(cupy.asarray(r), cupy.asarray(m)).T)\n",
    "\n",
    "plt.scatter(x, y, m);\n",
    "plt.quiver(x, y, ax, ay);"
   ]
  },
  {
   "cell_type": "markdown",
   "metadata": {},
   "source": [
    "Let's now run a quick bechmark:"
   ]
  },
  {
   "cell_type": "code",
   "execution_count": 23,
   "metadata": {},
   "outputs": [],
   "source": [
    "results = []\n",
    "numbers_of_bodies = [2**n for n in range(4, 13)]\n",
    "for np in [numpy, cupy]:\n",
    "    for N in numbers_of_bodies:\n",
    "        r, m = prep(N, np, seed=17)\n",
    "        time = %timeit -oq accelerations(r, m)\n",
    "        results.append({\"library\":np.__name__,\n",
    "                        \"N\": N,\n",
    "                        \"average\": time.average,\n",
    "                        \"stdev\": time.stdev})"
   ]
  },
  {
   "cell_type": "code",
   "execution_count": 24,
   "metadata": {},
   "outputs": [
    {
     "data": {
      "text/html": [
       "<div>\n",
       "<style scoped>\n",
       "    .dataframe tbody tr th:only-of-type {\n",
       "        vertical-align: middle;\n",
       "    }\n",
       "\n",
       "    .dataframe tbody tr th {\n",
       "        vertical-align: top;\n",
       "    }\n",
       "\n",
       "    .dataframe thead th {\n",
       "        text-align: right;\n",
       "    }\n",
       "</style>\n",
       "<table border=\"1\" class=\"dataframe\">\n",
       "  <thead>\n",
       "    <tr style=\"text-align: right;\">\n",
       "      <th></th>\n",
       "      <th>N</th>\n",
       "      <th>average</th>\n",
       "      <th>library</th>\n",
       "      <th>stdev</th>\n",
       "    </tr>\n",
       "  </thead>\n",
       "  <tbody>\n",
       "    <tr>\n",
       "      <th>0</th>\n",
       "      <td>16</td>\n",
       "      <td>0.000076</td>\n",
       "      <td>numpy</td>\n",
       "      <td>0.000003</td>\n",
       "    </tr>\n",
       "    <tr>\n",
       "      <th>1</th>\n",
       "      <td>32</td>\n",
       "      <td>0.000179</td>\n",
       "      <td>numpy</td>\n",
       "      <td>0.000002</td>\n",
       "    </tr>\n",
       "    <tr>\n",
       "      <th>2</th>\n",
       "      <td>64</td>\n",
       "      <td>0.000589</td>\n",
       "      <td>numpy</td>\n",
       "      <td>0.000020</td>\n",
       "    </tr>\n",
       "    <tr>\n",
       "      <th>3</th>\n",
       "      <td>128</td>\n",
       "      <td>0.002245</td>\n",
       "      <td>numpy</td>\n",
       "      <td>0.000139</td>\n",
       "    </tr>\n",
       "    <tr>\n",
       "      <th>4</th>\n",
       "      <td>256</td>\n",
       "      <td>0.012159</td>\n",
       "      <td>numpy</td>\n",
       "      <td>0.003883</td>\n",
       "    </tr>\n",
       "    <tr>\n",
       "      <th>5</th>\n",
       "      <td>512</td>\n",
       "      <td>0.044007</td>\n",
       "      <td>numpy</td>\n",
       "      <td>0.004827</td>\n",
       "    </tr>\n",
       "    <tr>\n",
       "      <th>6</th>\n",
       "      <td>1024</td>\n",
       "      <td>0.187316</td>\n",
       "      <td>numpy</td>\n",
       "      <td>0.007669</td>\n",
       "    </tr>\n",
       "    <tr>\n",
       "      <th>7</th>\n",
       "      <td>2048</td>\n",
       "      <td>0.718909</td>\n",
       "      <td>numpy</td>\n",
       "      <td>0.027526</td>\n",
       "    </tr>\n",
       "    <tr>\n",
       "      <th>8</th>\n",
       "      <td>4096</td>\n",
       "      <td>2.867943</td>\n",
       "      <td>numpy</td>\n",
       "      <td>0.055799</td>\n",
       "    </tr>\n",
       "    <tr>\n",
       "      <th>9</th>\n",
       "      <td>16</td>\n",
       "      <td>0.001288</td>\n",
       "      <td>cupy</td>\n",
       "      <td>0.000021</td>\n",
       "    </tr>\n",
       "    <tr>\n",
       "      <th>10</th>\n",
       "      <td>32</td>\n",
       "      <td>0.001316</td>\n",
       "      <td>cupy</td>\n",
       "      <td>0.000030</td>\n",
       "    </tr>\n",
       "    <tr>\n",
       "      <th>11</th>\n",
       "      <td>64</td>\n",
       "      <td>0.001463</td>\n",
       "      <td>cupy</td>\n",
       "      <td>0.000146</td>\n",
       "    </tr>\n",
       "    <tr>\n",
       "      <th>12</th>\n",
       "      <td>128</td>\n",
       "      <td>0.001430</td>\n",
       "      <td>cupy</td>\n",
       "      <td>0.000112</td>\n",
       "    </tr>\n",
       "    <tr>\n",
       "      <th>13</th>\n",
       "      <td>256</td>\n",
       "      <td>0.001321</td>\n",
       "      <td>cupy</td>\n",
       "      <td>0.000024</td>\n",
       "    </tr>\n",
       "    <tr>\n",
       "      <th>14</th>\n",
       "      <td>512</td>\n",
       "      <td>0.001656</td>\n",
       "      <td>cupy</td>\n",
       "      <td>0.000022</td>\n",
       "    </tr>\n",
       "    <tr>\n",
       "      <th>15</th>\n",
       "      <td>1024</td>\n",
       "      <td>0.005480</td>\n",
       "      <td>cupy</td>\n",
       "      <td>0.000082</td>\n",
       "    </tr>\n",
       "    <tr>\n",
       "      <th>16</th>\n",
       "      <td>2048</td>\n",
       "      <td>0.020252</td>\n",
       "      <td>cupy</td>\n",
       "      <td>0.000017</td>\n",
       "    </tr>\n",
       "    <tr>\n",
       "      <th>17</th>\n",
       "      <td>4096</td>\n",
       "      <td>0.080994</td>\n",
       "      <td>cupy</td>\n",
       "      <td>0.000289</td>\n",
       "    </tr>\n",
       "  </tbody>\n",
       "</table>\n",
       "</div>"
      ],
      "text/plain": [
       "       N   average library     stdev\n",
       "0     16  0.000076   numpy  0.000003\n",
       "1     32  0.000179   numpy  0.000002\n",
       "2     64  0.000589   numpy  0.000020\n",
       "3    128  0.002245   numpy  0.000139\n",
       "4    256  0.012159   numpy  0.003883\n",
       "5    512  0.044007   numpy  0.004827\n",
       "6   1024  0.187316   numpy  0.007669\n",
       "7   2048  0.718909   numpy  0.027526\n",
       "8   4096  2.867943   numpy  0.055799\n",
       "9     16  0.001288    cupy  0.000021\n",
       "10    32  0.001316    cupy  0.000030\n",
       "11    64  0.001463    cupy  0.000146\n",
       "12   128  0.001430    cupy  0.000112\n",
       "13   256  0.001321    cupy  0.000024\n",
       "14   512  0.001656    cupy  0.000022\n",
       "15  1024  0.005480    cupy  0.000082\n",
       "16  2048  0.020252    cupy  0.000017\n",
       "17  4096  0.080994    cupy  0.000289"
      ]
     },
     "execution_count": 24,
     "metadata": {},
     "output_type": "execute_result"
    }
   ],
   "source": [
    "import pandas\n",
    "\n",
    "df = pandas.DataFrame(results)\n",
    "df"
   ]
  },
  {
   "cell_type": "code",
   "execution_count": 25,
   "metadata": {},
   "outputs": [
    {
     "data": {
      "image/png": "[encoded data removed]",
      "text/plain": [
       "<Figure size 432x288 with 1 Axes>"
      ]
     },
     "metadata": {
      "needs_background": "light"
     },
     "output_type": "display_data"
    }
   ],
   "source": [
    "fig, ax = plt.subplots()\n",
    "ax.set_ylabel(\"Average runtime [s]\")\n",
    "for label, g in df.groupby('library'):\n",
    "    g.plot('N', 'average', ax=ax, label=label, logx=True, logy=True, style=\"o--\")\n",
    "ax.grid()"
   ]
  },
  {
   "cell_type": "markdown",
   "metadata": {},
   "source": [
    "Thus at low numbers of particles, CuPy has a performance overhead, but at larger numbers of particles (as limited by `MemoryError`s on my device, with the regime shifting around 100 particles), the GPU (predictably) wins!\n",
    "\n",
    "We can also calculate the runtime ratios for a speedup estimate:"
   ]
  },
  {
   "cell_type": "code",
   "execution_count": 26,
   "metadata": {},
   "outputs": [
    {
     "data": {
      "text/plain": [
       "N\n",
       "16       0.059079\n",
       "32       0.135752\n",
       "64       0.402321\n",
       "128      1.570570\n",
       "256      9.204320\n",
       "512     26.570801\n",
       "1024    34.179128\n",
       "2048    35.498837\n",
       "4096    35.409139\n",
       "Name: average, dtype: float64"
      ]
     },
     "execution_count": 26,
     "metadata": {},
     "output_type": "execute_result"
    }
   ],
   "source": [
    "speedups = df[df.library =='numpy'].set_index('N').average / df[df.library =='cupy'].set_index('N').average\n",
    "speedups"
   ]
  },
  {
   "cell_type": "code",
   "execution_count": 27,
   "metadata": {},
   "outputs": [
    {
     "data": {
      "image/png": "[encoded data removed]",
      "text/plain": [
       "<Figure size 432x288 with 1 Axes>"
      ]
     },
     "metadata": {
      "needs_background": "light"
     },
     "output_type": "display_data"
    }
   ],
   "source": [
    "speedups.plot(logx=True, style=\"o--\", logy=True)\n",
    "plt.ylabel(\"GPU over CPU speedup\");\n",
    "plt.grid()"
   ]
  },
  {
   "cell_type": "markdown",
   "metadata": {},
   "source": [
    "While this is obviously not a full proper test (we don't know how much host-device memory transfer would impact our timings, etc), it's at least nice to see that we get 35 times the speed on the GPU for the pure acceleration stage basically for free!"
   ]
  }
 ],
 "metadata": {
  "kernelspec": {
   "display_name": "Python [conda env:cupy]",
   "language": "python",
   "name": "conda-env-cupy-py"
  },
  "language_info": {
   "codemirror_mode": {
    "name": "ipython",
    "version": 3
   },
   "file_extension": ".py",
   "mimetype": "text/x-python",
   "name": "python",
   "nbconvert_exporter": "python",
   "pygments_lexer": "ipython3",
   "version": "3.7.1"
  },
  "nikola": {
   "category": "",
   "date": "2019-03-04 18:00:00 UTC+01:00",
   "description": "",
   "link": "",
   "slug": "cupy-nbody-direct-force-calculation",
   "tags": [
    "cupy",
    "nbody",
    "gpu",
    "python"
   ],
   "title": "CuPy speedup of naive N-Body vectorized force calculation",
   "type": "text"
  }
 },
 "nbformat": 4,
 "nbformat_minor": 2
}
