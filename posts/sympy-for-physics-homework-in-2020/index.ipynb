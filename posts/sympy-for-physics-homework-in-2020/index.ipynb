{
 "cells": [
  {
   "cell_type": "markdown",
   "metadata": {},
   "source": [
    "I've been doing my university physics homework in SymPy and Jupyter for a little bit, and I thought I could share a little about the workflow I've developed for it. It might come useful for you.\n",
    "<!--TEASER_END-->"
   ]
  },
  {
   "cell_type": "markdown",
   "metadata": {},
   "source": [
    "Let's go through with an abridged example of plasma physics homework with that toolset, and then go over the tricks used as they come up. I'll put text that I'd put in the homework solution in quotes."
   ]
  },
  {
   "cell_type": "markdown",
   "metadata": {},
   "source": [
    "> ## For electrostatic electron waves in unmagnetized plasma, calculate the correction to the frequency due to the ion motion."
   ]
  },
  {
   "cell_type": "markdown",
   "metadata": {},
   "source": [
    "We'll set up our SymPy namespace first. We'll dump it all into the main namespace; not the best habit for libraries, but here we want to write less code, so it'll do."
   ]
  },
  {
   "cell_type": "code",
   "execution_count": 1,
   "metadata": {},
   "outputs": [],
   "source": [
    "%config InteractiveShell.ast_node_interactivity = 'last_expr_or_assign'\n",
    "from sympy import *\n",
    "init_printing()"
   ]
  },
  {
   "cell_type": "markdown",
   "metadata": {},
   "source": [
    "I also added a little IPython magic in there. This is a little behavior I picked up from working in Julia, where **the value last expression or assignment in a cell is displayed**."
   ]
  },
  {
   "cell_type": "markdown",
   "metadata": {},
   "source": [
    "> We take the linearized forms in Fourier space of the following fluid equations:\n",
    "> 1. equation of motion, for ions, with temperature\n",
    "> 2. equation of motion, for electrons, with temperature\n",
    "> 3. mass conservation for ions\n",
    "> 4. mass conservation for electrons\n",
    "> 5. Poisson's equation\n",
    "\n",
    "Now, let's define our variables and the set of equations we care about. Note how we'll liberally use unicode characters to shorten our code. In Jupyter, you can enter $\\omega$ in code cells by simply writing the LaTeX for it and hitting TAB afterwards: `\\omega<TAB>`"
   ]
  },
  {
   "cell_type": "code",
   "execution_count": 2,
   "metadata": {},
   "outputs": [
    {
     "data": {
      "image/png": "[encoded data removed]",
      "text/latex": [
       "$\\displaystyle \\left[ - i m_{i} n_{0} \\omega v_{i} = - i T \\gamma k n_{i} + e e n_{0}, \\  - i m_{e} n_{0} \\omega v_{e} = - i T \\gamma k n_{e} - e e n_{0}, \\  i k n_{0} v_{i} - i n_{i} \\omega = 0, \\  i k n_{0} v_{e} - i n_{e} \\omega = 0, \\  e i k = \\frac{e \\left(- n_{e} + n_{i}\\right)}{\\varepsilon_{0}}\\right]$"
      ],
      "text/plain": [
       "⎡                                                                             \n",
       "⎢-ⅈ⋅mᵢ⋅n₀⋅ω⋅vᵢ = -ⅈ⋅T⋅γ⋅k⋅nᵢ + ℯ⋅e⋅n₀, -ⅈ⋅mₑ⋅n₀⋅ω⋅vₑ = -ⅈ⋅T⋅γ⋅k⋅nₑ - ℯ⋅e⋅n₀, ⅈ\n",
       "⎣                                                                             \n",
       "\n",
       "                                                       e⋅(-nₑ + nᵢ)⎤\n",
       "⋅k⋅n₀⋅vᵢ - ⅈ⋅nᵢ⋅ω = 0, ⅈ⋅k⋅n₀⋅vₑ - ⅈ⋅nₑ⋅ω = 0, ℯ⋅ⅈ⋅k = ────────────⎥\n",
       "                                                       varepsilon₀ ⎦"
      ]
     },
     "execution_count": 2,
     "metadata": {},
     "output_type": "execute_result"
    }
   ],
   "source": [
    "m_i, m_e, γ, T, n_0, e, ϵ = symbols('m_i m_e gamma T n_0 e varepsilon_0', positive=True)\n",
    "ω, k = symbols('omega k', positive=True)\n",
    "v_i, v_e, n_i, n_e = symbols('v_i v_e n_i n_e')  # to be understood as fourier modes\n",
    "\n",
    "equations = [\n",
    "    Eq(-I * ω * m_i * n_0 * v_i, +e * n_0 * E - I * k * γ * T * n_i),\n",
    "    Eq(-I * ω * m_e * n_0 * v_e, -e * n_0 * E - I * k * γ * T * n_e),\n",
    "    Eq(-I * ω * n_i + I * k * n_0 * v_i, 0),\n",
    "    Eq(-I * ω * n_e + I * k * n_0 * v_e, 0),\n",
    "    Eq(I * k * E , e * (n_i - n_e) / ϵ)\n",
    "]"
   ]
  },
  {
   "cell_type": "markdown",
   "metadata": {},
   "source": [
    "See? That's output right there. Neat! Anyway, \n",
    "> We first solve equations 3 and 4 for the velocities:"
   ]
  },
  {
   "cell_type": "code",
   "execution_count": 3,
   "metadata": {},
   "outputs": [
    {
     "data": {
      "image/png": "[encoded data removed]",
      "text/latex": [
       "$\\displaystyle \\left\\{ v_{e} : \\frac{n_{e} \\omega}{k n_{0}}, \\  v_{i} : \\frac{n_{i} \\omega}{k n_{0}}\\right\\}$"
      ],
      "text/plain": [
       "⎧    nₑ⋅ω      nᵢ⋅ω⎫\n",
       "⎨vₑ: ────, vᵢ: ────⎬\n",
       "⎩    k⋅n₀      k⋅n₀⎭"
      ]
     },
     "execution_count": 3,
     "metadata": {},
     "output_type": "execute_result"
    }
   ],
   "source": [
    "v_i_e_solutions = solve(equations[2:4], [v_i, v_e])"
   ]
  },
  {
   "cell_type": "markdown",
   "metadata": {},
   "source": [
    "> We then insert the velocities into the equations of motion:"
   ]
  },
  {
   "cell_type": "code",
   "execution_count": 4,
   "metadata": {},
   "outputs": [
    {
     "data": {
      "image/png": "[encoded data removed]",
      "text/latex": [
       "$\\displaystyle \\left[ - \\frac{i m_{i} n_{i} \\omega^{2}}{k} = - i T \\gamma k n_{i} + e e n_{0}, \\  - \\frac{i m_{e} n_{e} \\omega^{2}}{k} = - i T \\gamma k n_{e} - e e n_{0}\\right]$"
      ],
      "text/plain": [
       "⎡          2                                    2                        ⎤\n",
       "⎢-ⅈ⋅mᵢ⋅nᵢ⋅ω                           -ⅈ⋅mₑ⋅nₑ⋅ω                         ⎥\n",
       "⎢──────────── = -ⅈ⋅T⋅γ⋅k⋅nᵢ + ℯ⋅e⋅n₀, ──────────── = -ⅈ⋅T⋅γ⋅k⋅nₑ - ℯ⋅e⋅n₀⎥\n",
       "⎣     k                                    k                             ⎦"
      ]
     },
     "execution_count": 4,
     "metadata": {},
     "output_type": "execute_result"
    }
   ],
   "source": [
    "motion_equations = [eq.subs(v_i_e_solutions) for eq in equations[0:2]]"
   ]
  },
  {
   "cell_type": "markdown",
   "metadata": {},
   "source": [
    "> From this, it is simple to grab the number densities:"
   ]
  },
  {
   "cell_type": "code",
   "execution_count": 5,
   "metadata": {},
   "outputs": [
    {
     "data": {
      "image/png": "[encoded data removed]",
      "text/latex": [
       "$\\displaystyle \\left\\{ n_{e} : \\frac{e i e k n_{0}}{T \\gamma k^{2} - m_{e} \\omega^{2}}, \\  n_{i} : - \\frac{e i e k n_{0}}{T \\gamma k^{2} - m_{i} \\omega^{2}}\\right\\}$"
      ],
      "text/plain": [
       "⎧      ℯ⋅ⅈ⋅e⋅k⋅n₀         -ℯ⋅ⅈ⋅e⋅k⋅n₀  ⎫\n",
       "⎪nₑ: ──────────────, nᵢ: ──────────────⎪\n",
       "⎨         2       2           2       2⎬\n",
       "⎪    T⋅γ⋅k  - mₑ⋅ω       T⋅γ⋅k  - mᵢ⋅ω ⎪\n",
       "⎩                                      ⎭"
      ]
     },
     "execution_count": 5,
     "metadata": {},
     "output_type": "execute_result"
    }
   ],
   "source": [
    "n_i_e_solutions = solve(motion_equations, (n_i, n_e))"
   ]
  },
  {
   "cell_type": "markdown",
   "metadata": {},
   "source": [
    "> And now we can insert those back into the final, Poisson's equation:"
   ]
  },
  {
   "cell_type": "code",
   "execution_count": 6,
   "metadata": {},
   "outputs": [
    {
     "data": {
      "image/png": "[encoded data removed]",
      "text/latex": [
       "$\\displaystyle e i k = \\frac{e i e^{2} k n_{0} \\left(- 2 T \\gamma k^{2} + m_{e} \\omega^{2} + m_{i} \\omega^{2}\\right)}{\\varepsilon_{0} \\left(T \\gamma k^{2} - m_{e} \\omega^{2}\\right) \\left(T \\gamma k^{2} - m_{i} \\omega^{2}\\right)}$"
      ],
      "text/plain": [
       "                2      ⎛         2       2       2⎞  \n",
       "           ℯ⋅ⅈ⋅e ⋅k⋅n₀⋅⎝- 2⋅T⋅γ⋅k  + mₑ⋅ω  + mᵢ⋅ω ⎠  \n",
       "ℯ⋅ⅈ⋅k = ─────────────────────────────────────────────\n",
       "                    ⎛     2       2⎞ ⎛     2       2⎞\n",
       "        varepsilon₀⋅⎝T⋅γ⋅k  - mₑ⋅ω ⎠⋅⎝T⋅γ⋅k  - mᵢ⋅ω ⎠"
      ]
     },
     "execution_count": 6,
     "metadata": {},
     "output_type": "execute_result"
    }
   ],
   "source": [
    "poisson_eq = equations[-1].subs(n_i_e_solutions).simplify()"
   ]
  },
  {
   "cell_type": "markdown",
   "metadata": {},
   "source": [
    "> This we can solve for the $\\omega^2$:"
   ]
  },
  {
   "cell_type": "code",
   "execution_count": 7,
   "metadata": {},
   "outputs": [
    {
     "data": {
      "image/png": "[encoded data removed]",
      "text/latex": [
       "$\\displaystyle \\left[ \\frac{\\left(m_{e} + m_{i}\\right) \\left(T \\gamma k^{2} \\varepsilon_{0} + e^{2} n_{0}\\right) - \\sqrt{T^{2} \\gamma^{2} k^{4} m_{e}^{2} \\varepsilon_{0}^{2} - 2 T^{2} \\gamma^{2} k^{4} m_{e} m_{i} \\varepsilon_{0}^{2} + T^{2} \\gamma^{2} k^{4} m_{i}^{2} \\varepsilon_{0}^{2} + 2 T e^{2} \\gamma k^{2} m_{e}^{2} n_{0} \\varepsilon_{0} - 4 T e^{2} \\gamma k^{2} m_{e} m_{i} n_{0} \\varepsilon_{0} + 2 T e^{2} \\gamma k^{2} m_{i}^{2} n_{0} \\varepsilon_{0} + e^{4} m_{e}^{2} n_{0}^{2} + 2 e^{4} m_{e} m_{i} n_{0}^{2} + e^{4} m_{i}^{2} n_{0}^{2}}}{2 m_{e} m_{i} \\varepsilon_{0}}, \\  \\frac{\\left(m_{e} + m_{i}\\right) \\left(T \\gamma k^{2} \\varepsilon_{0} + e^{2} n_{0}\\right) + \\sqrt{T^{2} \\gamma^{2} k^{4} m_{e}^{2} \\varepsilon_{0}^{2} - 2 T^{2} \\gamma^{2} k^{4} m_{e} m_{i} \\varepsilon_{0}^{2} + T^{2} \\gamma^{2} k^{4} m_{i}^{2} \\varepsilon_{0}^{2} + 2 T e^{2} \\gamma k^{2} m_{e}^{2} n_{0} \\varepsilon_{0} - 4 T e^{2} \\gamma k^{2} m_{e} m_{i} n_{0} \\varepsilon_{0} + 2 T e^{2} \\gamma k^{2} m_{i}^{2} n_{0} \\varepsilon_{0} + e^{4} m_{e}^{2} n_{0}^{2} + 2 e^{4} m_{e} m_{i} n_{0}^{2} + e^{4} m_{i}^{2} n_{0}^{2}}}{2 m_{e} m_{i} \\varepsilon_{0}}\\right]$"
      ],
      "text/plain": [
       "⎡                                            _________________________________\n",
       "⎢          ⎛     2                2   ⎞     ╱  2  2  4   2            2      2\n",
       "⎢(mₑ + mᵢ)⋅⎝T⋅γ⋅k ⋅varepsilon₀ + e ⋅n₀⎠ - ╲╱  T ⋅γ ⋅k ⋅mₑ ⋅varepsilon₀  - 2⋅T \n",
       "⎢─────────────────────────────────────────────────────────────────────────────\n",
       "⎣                                                                             \n",
       "\n",
       "______________________________________________________________________________\n",
       "  2  4                  2    2  2  4   2            2        2    2   2       \n",
       "⋅γ ⋅k ⋅mₑ⋅mᵢ⋅varepsilon₀  + T ⋅γ ⋅k ⋅mᵢ ⋅varepsilon₀  + 2⋅T⋅e ⋅γ⋅k ⋅mₑ ⋅n₀⋅var\n",
       "──────────────────────────────────────────────────────────────────────────────\n",
       "                                                   2⋅mₑ⋅mᵢ⋅varepsilon₀        \n",
       "\n",
       "______________________________________________________________________________\n",
       "                2    2                             2    2   2                 \n",
       "epsilon₀ - 4⋅T⋅e ⋅γ⋅k ⋅mₑ⋅mᵢ⋅n₀⋅varepsilon₀ + 2⋅T⋅e ⋅γ⋅k ⋅mᵢ ⋅n₀⋅varepsilon₀ +\n",
       "──────────────────────────────────────────────────────────────────────────────\n",
       "                                                                              \n",
       "\n",
       "__________________________________________                                    \n",
       "  4   2   2      4         2    4   2   2             ⎛     2                2\n",
       " e ⋅mₑ ⋅n₀  + 2⋅e ⋅mₑ⋅mᵢ⋅n₀  + e ⋅mᵢ ⋅n₀    (mₑ + mᵢ)⋅⎝T⋅γ⋅k ⋅varepsilon₀ + e \n",
       "──────────────────────────────────────────, ──────────────────────────────────\n",
       "                                                                              \n",
       "\n",
       "          ____________________________________________________________________\n",
       "   ⎞     ╱  2  2  4   2            2      2  2  4                  2    2  2  \n",
       "⋅n₀⎠ + ╲╱  T ⋅γ ⋅k ⋅mₑ ⋅varepsilon₀  - 2⋅T ⋅γ ⋅k ⋅mₑ⋅mᵢ⋅varepsilon₀  + T ⋅γ ⋅k\n",
       "──────────────────────────────────────────────────────────────────────────────\n",
       "                                                                              \n",
       "\n",
       "______________________________________________________________________________\n",
       "4   2            2        2    2   2                       2    2             \n",
       " ⋅mᵢ ⋅varepsilon₀  + 2⋅T⋅e ⋅γ⋅k ⋅mₑ ⋅n₀⋅varepsilon₀ - 4⋅T⋅e ⋅γ⋅k ⋅mₑ⋅mᵢ⋅n₀⋅var\n",
       "──────────────────────────────────────────────────────────────────────────────\n",
       "                2⋅mₑ⋅mᵢ⋅varepsilon₀                                           \n",
       "\n",
       "______________________________________________________________________________\n",
       "                2    2   2                   4   2   2      4         2    4  \n",
       "epsilon₀ + 2⋅T⋅e ⋅γ⋅k ⋅mᵢ ⋅n₀⋅varepsilon₀ + e ⋅mₑ ⋅n₀  + 2⋅e ⋅mₑ⋅mᵢ⋅n₀  + e ⋅m\n",
       "──────────────────────────────────────────────────────────────────────────────\n",
       "                                                                              \n",
       "\n",
       "_______⎤\n",
       " 2   2 ⎥\n",
       "ᵢ ⋅n₀  ⎥\n",
       "───────⎥\n",
       "       ⎦"
      ]
     },
     "execution_count": 7,
     "metadata": {},
     "output_type": "execute_result"
    }
   ],
   "source": [
    "ω2_solutions = solve(poisson_eq, ω**2)"
   ]
  },
  {
   "cell_type": "markdown",
   "metadata": {},
   "source": [
    "> Which is the complete analytical answer. as a sanity check, we can take the limit $m_i \\to \\infty$. Starting with the first one:"
   ]
  },
  {
   "cell_type": "code",
   "execution_count": 8,
   "metadata": {},
   "outputs": [
    {
     "data": {
      "image/png": "[encoded data removed]",
      "text/latex": [
       "$\\displaystyle \\frac{T \\gamma k^{2} \\varepsilon_{0} + e^{2} n_{0} - \\sqrt{T^{2} \\gamma^{2} k^{4} \\varepsilon_{0}^{2} + 2 T e^{2} \\gamma k^{2} n_{0} \\varepsilon_{0} + e^{4} n_{0}^{2}}}{2 m_{e} \\varepsilon_{0}}$"
      ],
      "text/plain": [
       "                                ______________________________________________\n",
       "     2                2        ╱  2  2  4            2        2    2          \n",
       "T⋅γ⋅k ⋅varepsilon₀ + e ⋅n₀ - ╲╱  T ⋅γ ⋅k ⋅varepsilon₀  + 2⋅T⋅e ⋅γ⋅k ⋅n₀⋅vareps\n",
       "──────────────────────────────────────────────────────────────────────────────\n",
       "                                       2⋅mₑ⋅varepsilon₀                       \n",
       "\n",
       "_______________\n",
       "         4   2 \n",
       "ilon₀ + e ⋅n₀  \n",
       "───────────────\n",
       "               "
      ]
     },
     "execution_count": 8,
     "metadata": {},
     "output_type": "execute_result"
    }
   ],
   "source": [
    "limit1 = limit(ω2_solutions[0], m_i, oo)"
   ]
  },
  {
   "cell_type": "markdown",
   "metadata": {},
   "source": [
    "> Which, if we help SymPy a little (it didn't quite notice a pattern in the square root):\n",
    "\n",
    "This is, unfortunately, a problem that SymPy tends to run into - this kind of issue needs some tinkering sometimes:"
   ]
  },
  {
   "cell_type": "code",
   "execution_count": 9,
   "metadata": {},
   "outputs": [
    {
     "data": {
      "image/png": "[encoded data removed]",
      "text/latex": [
       "$\\displaystyle 0$"
      ],
      "text/plain": [
       "0"
      ]
     },
     "execution_count": 9,
     "metadata": {},
     "output_type": "execute_result"
    }
   ],
   "source": [
    "numerator, denominator = limit1.as_numer_denom()\n",
    "sum(arg.factor() for arg in numerator.args) / denominator"
   ]
  },
  {
   "cell_type": "markdown",
   "metadata": {},
   "source": [
    "> Which is not particularly interesting, corresponding to no oscillation at all. Applying the same procedure to the other solution:"
   ]
  },
  {
   "cell_type": "code",
   "execution_count": 10,
   "metadata": {},
   "outputs": [
    {
     "data": {
      "image/png": "[encoded data removed]",
      "text/latex": [
       "$\\displaystyle \\frac{T \\gamma k^{2} \\varepsilon_{0} + e^{2} n_{0}}{m_{e} \\varepsilon_{0}}$"
      ],
      "text/plain": [
       "     2                2   \n",
       "T⋅γ⋅k ⋅varepsilon₀ + e ⋅n₀\n",
       "──────────────────────────\n",
       "      mₑ⋅varepsilon₀      "
      ]
     },
     "execution_count": 10,
     "metadata": {},
     "output_type": "execute_result"
    }
   ],
   "source": [
    "limit2 = limit(ω2_solutions[1], m_i, oo).simplify()\n",
    "numerator, denominator = limit2.as_numer_denom()\n",
    "limit2_corrected = (sum(arg.factor() for arg in numerator.args) / denominator).simplify()"
   ]
  },
  {
   "cell_type": "markdown",
   "metadata": {},
   "source": [
    "> Which is the existing result for the electrostatic electron oscillation for warm electrons. Good! We're sane. Now, we have an analytic expression, but if we want to grab just the first order correction, we can apply some trickery.\n",
    "> \n",
    "> Let's define\n",
    "> \n",
    "> $$M = m_e / m_i$$\n",
    "> \n",
    "> This is a small quantity, and we an expand our $\\omega^2$ solutions in a power series in that.\n",
    "> \n",
    "> We'll then replace $m_i$ in the second $\\omega^2$ solution using $M$:"
   ]
  },
  {
   "cell_type": "code",
   "execution_count": 11,
   "metadata": {},
   "outputs": [],
   "source": [
    "Mratio = symbols(\"M\", positive=True)\n",
    "series_expansion = (ω2_solutions[1]).subs(m_i, m_e / Mratio).expand().series(Mratio, n = 2);"
   ]
  },
  {
   "cell_type": "markdown",
   "metadata": {},
   "source": [
    "Note how I'm using `;` at the end to stop this from displaying.\n",
    "\n",
    "> We once again apply some SymPy magic to make the series expansion bearable for the eyes:\n",
    "\n",
    "This took a bunch of StackOverflow searching, which, if you're on a deadline, may admittedly not be the most productive thing to do:"
   ]
  },
  {
   "cell_type": "code",
   "execution_count": 12,
   "metadata": {},
   "outputs": [
    {
     "data": {
      "image/png": "[encoded data removed]",
      "text/latex": [
       "$\\displaystyle \\frac{M \\left(T^{3} \\gamma^{3} k^{6} \\varepsilon_{0}^{3} + 3 T^{2} e^{2} \\gamma^{2} k^{4} n_{0} \\varepsilon_{0}^{2} - T^{2} \\gamma^{2} k^{4} \\varepsilon_{0}^{2} \\sqrt{T^{2} \\gamma^{2} k^{4} \\varepsilon_{0}^{2} + 2 T e^{2} \\gamma k^{2} n_{0} \\varepsilon_{0} + e^{4} n_{0}^{2}} + 3 T e^{4} \\gamma k^{2} n_{0}^{2} \\varepsilon_{0} - 2 T e^{2} \\gamma k^{2} n_{0} \\varepsilon_{0} \\sqrt{T^{2} \\gamma^{2} k^{4} \\varepsilon_{0}^{2} + 2 T e^{2} \\gamma k^{2} n_{0} \\varepsilon_{0} + e^{4} n_{0}^{2}} + e^{6} n_{0}^{3} + e^{4} n_{0}^{2} \\sqrt{T^{2} \\gamma^{2} k^{4} \\varepsilon_{0}^{2} + 2 T e^{2} \\gamma k^{2} n_{0} \\varepsilon_{0} + e^{4} n_{0}^{2}}\\right)}{2 m_{e} \\varepsilon_{0} \\left(T^{2} \\gamma^{2} k^{4} \\varepsilon_{0}^{2} + 2 T e^{2} \\gamma k^{2} n_{0} \\varepsilon_{0} + e^{4} n_{0}^{2}\\right)} + \\frac{T \\gamma k^{2} \\varepsilon_{0} + e^{2} n_{0} + \\sqrt{T^{2} \\gamma^{2} k^{4} \\varepsilon_{0}^{2} + 2 T e^{2} \\gamma k^{2} n_{0} \\varepsilon_{0} + e^{4} n_{0}^{2}}}{2 m_{e} \\varepsilon_{0}}$"
      ],
      "text/plain": [
       "  ⎛                                                                           \n",
       "  ⎜ 3  3  6            3      2  2  2  4               2    2  2  4           \n",
       "M⋅⎝T ⋅γ ⋅k ⋅varepsilon₀  + 3⋅T ⋅e ⋅γ ⋅k ⋅n₀⋅varepsilon₀  - T ⋅γ ⋅k ⋅varepsilon\n",
       "──────────────────────────────────────────────────────────────────────────────\n",
       "                                                                              \n",
       "                                                                              \n",
       "\n",
       "      _____________________________________________________________           \n",
       " 2   ╱  2  2  4            2        2    2                   4   2         4  \n",
       "₀ ⋅╲╱  T ⋅γ ⋅k ⋅varepsilon₀  + 2⋅T⋅e ⋅γ⋅k ⋅n₀⋅varepsilon₀ + e ⋅n₀   + 3⋅T⋅e ⋅γ\n",
       "──────────────────────────────────────────────────────────────────────────────\n",
       "                                                                             ⎛\n",
       "                                                            2⋅mₑ⋅varepsilon₀⋅⎝\n",
       "\n",
       "                                                    __________________________\n",
       "  2   2                    2    2                  ╱  2  2  4            2    \n",
       "⋅k ⋅n₀ ⋅varepsilon₀ - 2⋅T⋅e ⋅γ⋅k ⋅n₀⋅varepsilon₀⋅╲╱  T ⋅γ ⋅k ⋅varepsilon₀  + 2\n",
       "──────────────────────────────────────────────────────────────────────────────\n",
       " 2  2  4            2        2    2                   4   2⎞                  \n",
       "T ⋅γ ⋅k ⋅varepsilon₀  + 2⋅T⋅e ⋅γ⋅k ⋅n₀⋅varepsilon₀ + e ⋅n₀ ⎠                  \n",
       "\n",
       "___________________________________                      _____________________\n",
       "    2    2                   4   2     6   3    4   2   ╱  2  2  4            \n",
       "⋅T⋅e ⋅γ⋅k ⋅n₀⋅varepsilon₀ + e ⋅n₀   + e ⋅n₀  + e ⋅n₀ ⋅╲╱  T ⋅γ ⋅k ⋅varepsilon₀\n",
       "──────────────────────────────────────────────────────────────────────────────\n",
       "                                                                              \n",
       "                                                                              \n",
       "\n",
       "________________________________________⎞                                   __\n",
       "2        2    2                   4   2 ⎟        2                2        ╱  \n",
       "  + 2⋅T⋅e ⋅γ⋅k ⋅n₀⋅varepsilon₀ + e ⋅n₀  ⎠   T⋅γ⋅k ⋅varepsilon₀ + e ⋅n₀ + ╲╱  T\n",
       "───────────────────────────────────────── + ──────────────────────────────────\n",
       "                                                                              \n",
       "                                                                              \n",
       "\n",
       "___________________________________________________________\n",
       "2  2  4            2        2    2                   4   2 \n",
       " ⋅γ ⋅k ⋅varepsilon₀  + 2⋅T⋅e ⋅γ⋅k ⋅n₀⋅varepsilon₀ + e ⋅n₀  \n",
       "───────────────────────────────────────────────────────────\n",
       "     2⋅mₑ⋅varepsilon₀                                      \n",
       "                                                           "
      ]
     },
     "execution_count": 12,
     "metadata": {},
     "output_type": "execute_result"
    }
   ],
   "source": [
    "simplified_series_expansion = collect(series_expansion.removeO(), Mratio, simplify);"
   ]
  },
  {
   "cell_type": "markdown",
   "metadata": {},
   "source": [
    "> Applying some further simplification for the square root:"
   ]
  },
  {
   "cell_type": "code",
   "execution_count": 13,
   "metadata": {},
   "outputs": [
    {
     "data": {
      "image/png": "[encoded data removed]",
      "text/latex": [
       "$\\displaystyle \\frac{M e^{4} n_{0}^{2} + T^{2} \\gamma^{2} k^{4} \\varepsilon_{0}^{2} + 2 T e^{2} \\gamma k^{2} n_{0} \\varepsilon_{0} + e^{4} n_{0}^{2}}{m_{e} \\varepsilon_{0} \\left(T \\gamma k^{2} \\varepsilon_{0} + e^{2} n_{0}\\right)}$"
      ],
      "text/plain": [
       "   4   2    2  2  4            2        2    2                   4   2\n",
       "M⋅e ⋅n₀  + T ⋅γ ⋅k ⋅varepsilon₀  + 2⋅T⋅e ⋅γ⋅k ⋅n₀⋅varepsilon₀ + e ⋅n₀ \n",
       "──────────────────────────────────────────────────────────────────────\n",
       "                            ⎛     2                2   ⎞              \n",
       "             mₑ⋅varepsilon₀⋅⎝T⋅γ⋅k ⋅varepsilon₀ + e ⋅n₀⎠              "
      ]
     },
     "execution_count": 13,
     "metadata": {},
     "output_type": "execute_result"
    }
   ],
   "source": [
    "squareroot = numer(simplified_series_expansion.args[0]).args[0]\n",
    "very_simplified_series_expansion = simplified_series_expansion.subs(squareroot, squareroot.factor()).simplify()"
   ]
  },
  {
   "cell_type": "markdown",
   "metadata": {},
   "source": [
    "> And we arrive at the known and expected first order (in $m_e/m_i$) correction, substituting our definition of $M$ back in here:"
   ]
  },
  {
   "cell_type": "code",
   "execution_count": 14,
   "metadata": {},
   "outputs": [
    {
     "data": {
      "image/png": "[encoded data removed]",
      "text/latex": [
       "$\\displaystyle \\frac{e^{4} n_{0}^{2}}{m_{i} \\varepsilon_{0} \\left(T \\gamma k^{2} \\varepsilon_{0} + e^{2} n_{0}\\right)}$"
      ],
      "text/plain": [
       "                    4   2                  \n",
       "                   e ⋅n₀                   \n",
       "───────────────────────────────────────────\n",
       "               ⎛     2                2   ⎞\n",
       "mᵢ⋅varepsilon₀⋅⎝T⋅γ⋅k ⋅varepsilon₀ + e ⋅n₀⎠"
      ]
     },
     "execution_count": 14,
     "metadata": {},
     "output_type": "execute_result"
    }
   ],
   "source": [
    "ion_correction = (very_simplified_series_expansion - limit2_corrected).simplify().subs(Mratio, m_e / m_i)"
   ]
  },
  {
   "cell_type": "markdown",
   "metadata": {},
   "source": [
    "And that's that!"
   ]
  },
  {
   "cell_type": "markdown",
   "metadata": {},
   "source": [
    "# Results and thoughts\n",
    "\n",
    "For some pros and cons:\n",
    "\n",
    "## Positives\n",
    "\n",
    "* You get to skip out on algebraic errors.\n",
    "* You get beautiful LaTeX display, at no effort, for each step. This helps a ton if your handwriting is dreadful, like mine is.\n",
    "* You can resort to first-order corrections etc if you need a check, but you actually get full analytical solutions a lot of the time.\n",
    "\n",
    "## Neutrals\n",
    "\n",
    "* You really need to watch your assumptions when you define your variables, as SymPy is pretty conservative with its simplifications. This is, of course, both a blessing and a curse.\n",
    "* The learning curve is a bit steep, but you can accomplish plenty with just a little knowledge; for the rest, you can google. I've been putting off picking up its `physics` subpackage for way too long now.\n",
    "\n",
    "## Negatives\n",
    "\n",
    "* There are kinks, as you undoubtedly saw; it can be tough to tell SymPy \"look at that square root! Look at it!\". It'll miss some seemingly obvious stuff, and it can take a fair bit of googling to get it to work properly.\n",
    "* Runtimes can get steep-ish; it's not really suited for live work. I'll `%timeit` the two lines that caused a little trouble here. Admittedly, symbolic math is *hard*, so I'm not too surprised. ~~Turns out I could only timeit the first line in reasonable time...~~"
   ]
  },
  {
   "cell_type": "code",
   "execution_count": 15,
   "metadata": {},
   "outputs": [
    {
     "name": "stdout",
     "output_type": "stream",
     "text": [
      "24.3 s ± 351 ms per loop (mean ± std. dev. of 7 runs, 1 loop each)\n"
     ]
    }
   ],
   "source": [
    "%timeit series_expansion = (ω2_solutions[1]).subs(m_i, m_e / Mratio).expand().series(Mratio, n = 2);"
   ]
  },
  {
   "cell_type": "markdown",
   "metadata": {},
   "source": [
    "Still, all in all, I think it has plenty of potential. If it's not there *yet*, it's getting there! I'm likely to keep using it and if I come up with any further handy tools, I'll get back here."
   ]
  }
 ],
 "metadata": {
  "kernelspec": {
   "display_name": "Python 3",
   "language": "python",
   "name": "python3"
  },
  "language_info": {
   "codemirror_mode": {
    "name": "ipython",
    "version": 3
   },
   "file_extension": ".py",
   "mimetype": "text/x-python",
   "name": "python",
   "nbconvert_exporter": "python",
   "pygments_lexer": "ipython3",
   "version": "3.8.5"
  },
  "nikola": {
   "category": "",
   "date": "2020-09-29 16:46:21 UTC+02:00",
   "description": "",
   "link": "",
   "slug": "sympy-for-physics-homework-in-2020",
   "tags": "python sympy",
   "title": "SymPy for physics homework in 2020",
   "type": "text"
  },
  "toc-autonumbering": false
 },
 "nbformat": 4,
 "nbformat_minor": 4
}
